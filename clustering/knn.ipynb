{
 "cells": [
  {
   "cell_type": "code",
   "execution_count": 30,
   "id": "e603cd84",
   "metadata": {},
   "outputs": [],
   "source": [
    "import numpy as np "
   ]
  },
  {
   "cell_type": "code",
   "execution_count": 31,
   "id": "0442ce34",
   "metadata": {},
   "outputs": [
    {
     "name": "stdout",
     "output_type": "stream",
     "text": [
      "1\n"
     ]
    }
   ],
   "source": [
    "x = [4, 5, 10, 4, 3, 11, 14 , 8, 10, 12]\n",
    "y = [21, 19, 24, 17, 16, 25, 24, 22, 21, 21]\n",
    "classes = [0, 0, 1, 0, 0, 1, 1, 0, 1, 1]\n",
    "k = 3\n",
    "\n",
    "data = np.array([x, y]).T\n",
    "classes = np.array(classes).T \n",
    "\n",
    "new_point = np.array([8, 21])\n",
    "\n",
    "distances = np.sum(np.square(data - new_point), axis=1)\n",
    "nearest_indices = np.argpartition(distances, k)[:k]\n",
    "\n",
    "classes = np.bincount(classes[nearest_indices])\n",
    "output = np.argmax(classes)\n",
    "print(output)"
   ]
  },
  {
   "cell_type": "code",
   "execution_count": 32,
   "id": "2b0de36d",
   "metadata": {},
   "outputs": [
    {
     "name": "stdout",
     "output_type": "stream",
     "text": [
      "distances shape: (10, 2)\n",
      "nearest_idx shape: (3, 2)\n",
      "neighbor labels per query:\n",
      " [[1 0]\n",
      " [0 0]\n",
      " [1 0]]\n",
      "predictions: [1 0]\n"
     ]
    }
   ],
   "source": [
    "# Data\n",
    "x = [4, 5, 10, 4, 3, 11, 14 , 8, 10, 12]\n",
    "y = [21, 19, 24, 17, 16, 25, 24, 22, 21, 21]\n",
    "labels = np.array([0, 0, 1, 0, 0, 1, 1, 0, 1, 1])\n",
    "k = 3\n",
    "\n",
    "data = np.c_[x, y]                 # (N,2)\n",
    "queries = np.array([[8, 21], [5, 6]])   # (M,2)\n",
    "\n",
    "# Compute distances (N,M)\n",
    "distances = np.sum((data[:, None, :] - queries[None, :, :])**2, axis=-1)\n",
    "print(\"distances shape:\", distances.shape)  # (N, M)\n",
    "\n",
    "# Get top-k nearest indices for each query\n",
    "nearest_idx = np.argpartition(distances, k, axis=0)[:k, :]  # (k, M)\n",
    "print(\"nearest_idx shape:\", nearest_idx.shape)\n",
    "\n",
    "# Get the neighbor labels for each query\n",
    "neighbor_labels = labels[nearest_idx]  # (k, M)\n",
    "\n",
    "# Vectorized majority vote using bincount\n",
    "# For each column (query), find most frequent label\n",
    "preds = np.apply_along_axis(lambda a: np.bincount(a).argmax(), axis=0, arr=neighbor_labels)\n",
    "\n",
    "print(\"neighbor labels per query:\\n\", neighbor_labels)\n",
    "print(\"predictions:\", preds)"
   ]
  },
  {
   "cell_type": "code",
   "execution_count": null,
   "id": "2098c482",
   "metadata": {},
   "outputs": [],
   "source": []
  }
 ],
 "metadata": {
  "kernelspec": {
   "display_name": "research",
   "language": "python",
   "name": "python3"
  },
  "language_info": {
   "codemirror_mode": {
    "name": "ipython",
    "version": 3
   },
   "file_extension": ".py",
   "mimetype": "text/x-python",
   "name": "python",
   "nbconvert_exporter": "python",
   "pygments_lexer": "ipython3",
   "version": "3.11.8"
  }
 },
 "nbformat": 4,
 "nbformat_minor": 5
}
