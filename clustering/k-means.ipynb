{
 "cells": [
  {
   "cell_type": "code",
   "execution_count": 34,
   "id": "05cf592f",
   "metadata": {},
   "outputs": [],
   "source": [
    "import numpy as np "
   ]
  },
  {
   "cell_type": "code",
   "execution_count": 56,
   "id": "a99a8863",
   "metadata": {},
   "outputs": [
    {
     "name": "stdout",
     "output_type": "stream",
     "text": [
      "Converged after 26 iters\n"
     ]
    }
   ],
   "source": [
    "N = 489\n",
    "D = 4 \n",
    "K = 5\n",
    "\n",
    "data = np.random.random((N, D))\n",
    "centroids = data[np.random.choice(N, K, False)]\n",
    "\n",
    "# data is N,D \n",
    "# centroids are K,D \n",
    "# distance is N,K \n",
    "\n",
    "j = 0\n",
    "while True:\n",
    "    new_centroids = np.zeros_like(centroids)\n",
    "\n",
    "    distances = np.sum(np.square(data[:, None, :] - centroids[None, :, :]), axis=-1)\n",
    "    clusters = np.argmin(distances, axis=-1)\n",
    "\n",
    "    for i in range(K):\n",
    "        new_centroids[i, :] = np.mean(data[clusters == i], 0)\n",
    "\n",
    "    if np.allclose(centroids, new_centroids):\n",
    "        break \n",
    "\n",
    "    centroids = new_centroids\n",
    "    j += 1\n",
    "\n",
    "print(f\"Converged after {j} iters\")"
   ]
  },
  {
   "cell_type": "code",
   "execution_count": null,
   "id": "476e6e8b",
   "metadata": {},
   "outputs": [],
   "source": []
  }
 ],
 "metadata": {
  "kernelspec": {
   "display_name": "research",
   "language": "python",
   "name": "python3"
  },
  "language_info": {
   "codemirror_mode": {
    "name": "ipython",
    "version": 3
   },
   "file_extension": ".py",
   "mimetype": "text/x-python",
   "name": "python",
   "nbconvert_exporter": "python",
   "pygments_lexer": "ipython3",
   "version": "3.11.8"
  }
 },
 "nbformat": 4,
 "nbformat_minor": 5
}
