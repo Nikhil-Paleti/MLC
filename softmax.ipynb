{
 "cells": [
  {
   "cell_type": "code",
   "execution_count": 1,
   "id": "12dbcc27",
   "metadata": {},
   "outputs": [],
   "source": [
    "import torch"
   ]
  },
  {
   "cell_type": "code",
   "execution_count": null,
   "id": "aedd05f9",
   "metadata": {},
   "outputs": [],
   "source": [
    "x = torch.rand((50, 50))\n",
    "x -= x.max(dim=1, keepdim=True).values\n",
    "x = torch.exp(x)\n",
    "output = x / x.sum(dim=1, keepdim=True)"
   ]
  },
  {
   "cell_type": "markdown",
   "id": "ff2275f2",
   "metadata": {},
   "source": [
    "# Online softmax"
   ]
  },
  {
   "cell_type": "code",
   "execution_count": null,
   "id": "8f8ab3ac",
   "metadata": {},
   "outputs": [
    {
     "name": "stdout",
     "output_type": "stream",
     "text": [
      "tensor(1.)\n"
     ]
    }
   ],
   "source": [
    "import math\n",
    "\n",
    "window_size = 10\n",
    "x = torch.arange(0, 1232, dtype=torch.float32)\n",
    "total_ele = x.shape[0]\n",
    "num_windows = math.ceil(total_ele / window_size)\n",
    "\n",
    "acc = 0.0\n",
    "global_max = torch.tensor(-float(\"inf\") )\n",
    "\n",
    "for i in range(num_windows):\n",
    "    window_start = window_size * i\n",
    "    window = x[window_start:window_start + window_size]\n",
    "    # print(window)\n",
    "\n",
    "    window_max = torch.max(window)\n",
    "    acc = acc * torch.exp(global_max-window_max)\n",
    "    global_max = torch.max(window_max, global_max)\n",
    "\n",
    "    acc += torch.exp(window - window_max).sum()\n",
    "\n",
    "output = torch.exp(x - global_max) / acc\n",
    "print(output.sum())  # ≈ 1.0"
   ]
  },
  {
   "cell_type": "code",
   "execution_count": null,
   "id": "ccec1cb9",
   "metadata": {},
   "outputs": [],
   "source": []
  }
 ],
 "metadata": {
  "kernelspec": {
   "display_name": "research",
   "language": "python",
   "name": "python3"
  },
  "language_info": {
   "codemirror_mode": {
    "name": "ipython",
    "version": 3
   },
   "file_extension": ".py",
   "mimetype": "text/x-python",
   "name": "python",
   "nbconvert_exporter": "python",
   "pygments_lexer": "ipython3",
   "version": "3.11.8"
  }
 },
 "nbformat": 4,
 "nbformat_minor": 5
}
