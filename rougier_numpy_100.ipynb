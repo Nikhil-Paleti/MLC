{
 "cells": [
  {
   "cell_type": "code",
   "execution_count": 1,
   "id": "13b9eca2",
   "metadata": {},
   "outputs": [],
   "source": [
    "#### 1. Import the numpy package under the name `np` (★☆☆)\n",
    "import numpy as np"
   ]
  },
  {
   "cell_type": "code",
   "execution_count": 2,
   "id": "98d2532a",
   "metadata": {},
   "outputs": [
    {
     "name": "stdout",
     "output_type": "stream",
     "text": [
      "1.26.4\n"
     ]
    }
   ],
   "source": [
    "#### 2. Print the numpy version and the configuration (★☆☆)\n",
    "\n",
    "print(np.__version__)\n",
    "# print(np.show_config())"
   ]
  },
  {
   "cell_type": "code",
   "execution_count": 3,
   "id": "e2b6172e",
   "metadata": {},
   "outputs": [
    {
     "data": {
      "text/plain": [
       "array([0., 0., 0., 0., 0., 0., 0., 0., 0., 0.])"
      ]
     },
     "execution_count": 3,
     "metadata": {},
     "output_type": "execute_result"
    }
   ],
   "source": [
    "#### 3. Create a null vector of size 10 (★☆☆)\n",
    "\n",
    "np.empty(shape=(10,))"
   ]
  },
  {
   "cell_type": "code",
   "execution_count": 4,
   "id": "7472a0d1",
   "metadata": {},
   "outputs": [
    {
     "name": "stdout",
     "output_type": "stream",
     "text": [
      "80\n",
      "80\n"
     ]
    }
   ],
   "source": [
    "#### 4. How to find the memory size of any array (★☆☆)\n",
    "\n",
    "z = np.empty((10))\n",
    "\n",
    "print(z.nbytes)\n",
    "print(z.size * z.itemsize)"
   ]
  },
  {
   "cell_type": "code",
   "execution_count": 5,
   "id": "f2c5e924",
   "metadata": {},
   "outputs": [],
   "source": [
    "#### 5. How to get the documentation of the numpy add function from the command line? (★☆☆)\n",
    "\n",
    "# help(np.add)"
   ]
  },
  {
   "cell_type": "code",
   "execution_count": 6,
   "id": "2ba322b6",
   "metadata": {},
   "outputs": [],
   "source": [
    "# np.info(np.add)"
   ]
  },
  {
   "cell_type": "code",
   "execution_count": 7,
   "id": "3e41a84f",
   "metadata": {},
   "outputs": [
    {
     "data": {
      "text/plain": [
       "array([0., 0., 0., 0., 1., 0., 0., 0., 0., 0.])"
      ]
     },
     "execution_count": 7,
     "metadata": {},
     "output_type": "execute_result"
    }
   ],
   "source": [
    "#### 6. Create a null vector of size 10 but the fifth value which is 1 (★☆☆)\n",
    "\n",
    "z = np.empty((10))\n",
    "z[4] = 1\n",
    "z"
   ]
  },
  {
   "cell_type": "code",
   "execution_count": 8,
   "id": "f64e68d0",
   "metadata": {},
   "outputs": [
    {
     "data": {
      "text/plain": [
       "array([10, 11, 12, 13, 14, 15, 16, 17, 18, 19, 20, 21, 22, 23, 24, 25, 26,\n",
       "       27, 28, 29, 30, 31, 32, 33, 34, 35, 36, 37, 38, 39, 40, 41, 42, 43,\n",
       "       44, 45, 46, 47, 48, 49])"
      ]
     },
     "execution_count": 8,
     "metadata": {},
     "output_type": "execute_result"
    }
   ],
   "source": [
    "#### 7. Create a vector with values ranging from 10 to 49 (★☆☆)\n",
    "\n",
    "np.arange(start=10, stop=50)"
   ]
  },
  {
   "cell_type": "code",
   "execution_count": 9,
   "id": "322723f4",
   "metadata": {},
   "outputs": [
    {
     "data": {
      "text/plain": [
       "array([0., 0., 0., 0., 0., 1., 0., 0., 0., 0.])"
      ]
     },
     "execution_count": 9,
     "metadata": {},
     "output_type": "execute_result"
    }
   ],
   "source": [
    "#### 8. Reverse a vector (first element becomes last) (★☆☆)\n",
    "\n",
    "z[::-1]"
   ]
  },
  {
   "cell_type": "code",
   "execution_count": 10,
   "id": "c7448417",
   "metadata": {},
   "outputs": [
    {
     "data": {
      "text/plain": [
       "array([[0, 1, 2],\n",
       "       [3, 4, 5],\n",
       "       [6, 7, 8]])"
      ]
     },
     "execution_count": 10,
     "metadata": {},
     "output_type": "execute_result"
    }
   ],
   "source": [
    "#### 9. Create a 3x3 matrix with values ranging from 0 to 8 (★☆☆)\n",
    "\n",
    "np.arange(9).reshape(3,3)"
   ]
  },
  {
   "cell_type": "code",
   "execution_count": 11,
   "id": "789f2c11",
   "metadata": {},
   "outputs": [
    {
     "data": {
      "text/plain": [
       "(array([0, 1, 4]),)"
      ]
     },
     "execution_count": 11,
     "metadata": {},
     "output_type": "execute_result"
    }
   ],
   "source": [
    "#### 10. Find indices of non-zero elements from [1,2,0,0,4,0] (★☆☆)\n",
    "\n",
    "arr = np.array([1,2,0,0,4,0])\n",
    "\n",
    "np.where(arr != 0)"
   ]
  },
  {
   "cell_type": "code",
   "execution_count": 12,
   "id": "2b6794f0",
   "metadata": {},
   "outputs": [
    {
     "data": {
      "text/plain": [
       "array([[1., 0., 0.],\n",
       "       [0., 1., 0.],\n",
       "       [0., 0., 1.]])"
      ]
     },
     "execution_count": 12,
     "metadata": {},
     "output_type": "execute_result"
    }
   ],
   "source": [
    "#### 11. Create a 3x3 identity matrix (★☆☆)\n",
    "\n",
    "\n",
    "np.identity(3)"
   ]
  },
  {
   "cell_type": "code",
   "execution_count": 13,
   "id": "f419670a",
   "metadata": {},
   "outputs": [
    {
     "data": {
      "text/plain": [
       "array([[[0.45851702, 0.07318341, 0.42195276],\n",
       "        [0.17903427, 0.92765233, 0.4624633 ],\n",
       "        [0.61193158, 0.20604385, 0.52409035]],\n",
       "\n",
       "       [[0.37429676, 0.45913708, 0.78880483],\n",
       "        [0.79015435, 0.21153471, 0.37819757],\n",
       "        [0.66159218, 0.06229996, 0.70974164]],\n",
       "\n",
       "       [[0.34335016, 0.97945575, 0.20260566],\n",
       "        [0.44831195, 0.77296597, 0.70245153],\n",
       "        [0.99949469, 0.08012149, 0.4599214 ]]])"
      ]
     },
     "execution_count": 13,
     "metadata": {},
     "output_type": "execute_result"
    }
   ],
   "source": [
    "#### 12. Create a 3x3x3 array with random values (★☆☆)\n",
    "\n",
    "np.random.random((3,3,3))"
   ]
  },
  {
   "cell_type": "code",
   "execution_count": 14,
   "id": "4f24eaf2",
   "metadata": {},
   "outputs": [
    {
     "data": {
      "text/plain": [
       "(0.001642042924132503, 0.9861681723273937)"
      ]
     },
     "execution_count": 14,
     "metadata": {},
     "output_type": "execute_result"
    }
   ],
   "source": [
    "#### 13. Create a 10x10 array with random values and find the minimum and maximum values (★☆☆)\n",
    "\n",
    "arr = np.random.random((10,10))\n",
    "\n",
    "arr.min(), arr.max()"
   ]
  },
  {
   "cell_type": "code",
   "execution_count": 15,
   "id": "8a800592",
   "metadata": {},
   "outputs": [
    {
     "data": {
      "text/plain": [
       "0.5969367817806256"
      ]
     },
     "execution_count": 15,
     "metadata": {},
     "output_type": "execute_result"
    }
   ],
   "source": [
    "#### 14. Create a random vector of size 30 and find the mean value (★☆☆)\n",
    "\n",
    "arr = np.random.random((30,))\n",
    "arr.mean()"
   ]
  },
  {
   "cell_type": "code",
   "execution_count": 16,
   "id": "878cfe3e",
   "metadata": {},
   "outputs": [
    {
     "data": {
      "text/plain": [
       "array([[1., 1., 1., 1., 1.],\n",
       "       [1., 0., 0., 0., 1.],\n",
       "       [1., 0., 0., 0., 1.],\n",
       "       [1., 0., 0., 0., 1.],\n",
       "       [1., 1., 1., 1., 1.]])"
      ]
     },
     "execution_count": 16,
     "metadata": {},
     "output_type": "execute_result"
    }
   ],
   "source": [
    "#### 15. Create a 2d array with 1 on the border and 0 inside (★☆☆)\n",
    "\n",
    "mat = np.ones((5, 5))\n",
    "mat[1:-1, 1:-1] = 0\n",
    "mat"
   ]
  },
  {
   "cell_type": "code",
   "execution_count": 17,
   "id": "3e37ea14",
   "metadata": {},
   "outputs": [
    {
     "data": {
      "text/plain": [
       "array([[0, 0, 0, 0, 0, 0, 0],\n",
       "       [0, 3, 3, 3, 3, 3, 0],\n",
       "       [0, 3, 3, 3, 3, 3, 0],\n",
       "       [0, 3, 3, 3, 3, 3, 0],\n",
       "       [0, 3, 3, 3, 3, 3, 0],\n",
       "       [0, 3, 3, 3, 3, 3, 0],\n",
       "       [0, 0, 0, 0, 0, 0, 0]])"
      ]
     },
     "execution_count": 17,
     "metadata": {},
     "output_type": "execute_result"
    }
   ],
   "source": [
    "#### 16. How to add a border (filled with 0's) around an existing array? (★☆☆)\n",
    "\n",
    "mat = np.full((5,5), 3)\n",
    "mat2 = np.pad(mat, 1)\n",
    "mat2"
   ]
  },
  {
   "cell_type": "code",
   "execution_count": 18,
   "id": "eaeb110c",
   "metadata": {},
   "outputs": [
    {
     "name": "stdout",
     "output_type": "stream",
     "text": [
      "nan\n",
      "False\n",
      "False\n",
      "nan\n",
      "True\n",
      "False\n"
     ]
    }
   ],
   "source": [
    "#### 17. What is the result of the following expression? (★☆☆)\n",
    "\n",
    "print(0 * np.nan)\n",
    "print(np.nan == np.nan)\n",
    "print(np.inf > np.nan)\n",
    "print(np.nan - np.nan)\n",
    "print(np.nan in set([np.nan]))\n",
    "print(0.3 == 3 * 0.1)"
   ]
  },
  {
   "cell_type": "code",
   "execution_count": 19,
   "id": "d513c9ac",
   "metadata": {},
   "outputs": [
    {
     "data": {
      "text/plain": [
       "array([[0, 0, 0, 0, 0],\n",
       "       [1, 0, 0, 0, 0],\n",
       "       [0, 2, 0, 0, 0],\n",
       "       [0, 0, 3, 0, 0],\n",
       "       [0, 0, 0, 4, 0]])"
      ]
     },
     "execution_count": 19,
     "metadata": {},
     "output_type": "execute_result"
    }
   ],
   "source": [
    "#### 18. Create a 5x5 matrix with values 1,2,3,4 just below the diagonal (★☆☆)\n",
    "\n",
    "np.diag([1, 2, 3, 4], k=-1)"
   ]
  },
  {
   "cell_type": "code",
   "execution_count": 20,
   "id": "22abf26c",
   "metadata": {},
   "outputs": [
    {
     "name": "stdout",
     "output_type": "stream",
     "text": [
      "[[0 1 0 1 0 1 0 1]\n",
      " [1 0 1 0 1 0 1 0]\n",
      " [0 1 0 1 0 1 0 1]\n",
      " [1 0 1 0 1 0 1 0]\n",
      " [0 1 0 1 0 1 0 1]\n",
      " [1 0 1 0 1 0 1 0]\n",
      " [0 1 0 1 0 1 0 1]\n",
      " [1 0 1 0 1 0 1 0]]\n"
     ]
    }
   ],
   "source": [
    "#### 19. Create a 8x8 matrix and fill it with a checkerboard pattern (★☆☆)\n",
    "\n",
    "Z = np.zeros((8,8),dtype=int)\n",
    "Z[1::2,::2] = 1\n",
    "Z[::2,1::2] = 1\n",
    "print(Z)"
   ]
  },
  {
   "cell_type": "code",
   "execution_count": 21,
   "id": "56fa02cb",
   "metadata": {},
   "outputs": [
    {
     "data": {
      "text/plain": [
       "(1, 5, 4)"
      ]
     },
     "execution_count": 21,
     "metadata": {},
     "output_type": "execute_result"
    }
   ],
   "source": [
    "#### 20. Consider a (6,7,8) shape array, what is the index (x,y,z) of the 100th element? (★☆☆)\n",
    "\n",
    "\n",
    "np.unravel_index(100, (6,7,8))"
   ]
  },
  {
   "cell_type": "code",
   "execution_count": 22,
   "id": "47e2cac7",
   "metadata": {},
   "outputs": [
    {
     "data": {
      "text/plain": [
       "array([[1, 0, 1, 0, 1, 0, 1, 0],\n",
       "       [0, 1, 0, 1, 0, 1, 0, 1],\n",
       "       [1, 0, 1, 0, 1, 0, 1, 0],\n",
       "       [0, 1, 0, 1, 0, 1, 0, 1],\n",
       "       [1, 0, 1, 0, 1, 0, 1, 0],\n",
       "       [0, 1, 0, 1, 0, 1, 0, 1],\n",
       "       [1, 0, 1, 0, 1, 0, 1, 0],\n",
       "       [0, 1, 0, 1, 0, 1, 0, 1]])"
      ]
     },
     "execution_count": 22,
     "metadata": {},
     "output_type": "execute_result"
    }
   ],
   "source": [
    "#### 21. Create a checkerboard 8x8 matrix using the tile function (★☆☆)\n",
    "\n",
    "np.tile([[1,0], [0,1]], (4,4))"
   ]
  },
  {
   "cell_type": "code",
   "execution_count": 23,
   "id": "99dc49c4",
   "metadata": {},
   "outputs": [
    {
     "data": {
      "text/plain": [
       "array([[-0.41582993, -0.9815997 ,  0.09385938,  1.48755242, -0.85311282],\n",
       "       [-1.27980397,  0.36852038, -0.12610081,  0.31823155,  1.18137442],\n",
       "       [ 1.73718068, -1.34879736,  0.29368517, -0.64127552, -0.22047506],\n",
       "       [ 1.44529375,  1.69283247, -0.88366795, -0.97915724, -1.13562248],\n",
       "       [-1.29533009, -0.17788526,  1.1911146 , -0.43992145,  0.96893483]])"
      ]
     },
     "execution_count": 23,
     "metadata": {},
     "output_type": "execute_result"
    }
   ],
   "source": [
    "#### 22. Normalize a 5x5 random matrix (★☆☆)\n",
    "\n",
    "mat = np.random.random((5,5))\n",
    "norm_matrix = (mat - mat.mean()) / mat.std()\n",
    "\n",
    "norm_matrix"
   ]
  },
  {
   "cell_type": "code",
   "execution_count": 24,
   "id": "8b5b6c0c",
   "metadata": {},
   "outputs": [
    {
     "data": {
      "text/plain": [
       "dtype([('r', 'u1'), ('g', 'u1'), ('b', 'u1'), ('a', 'u1')])"
      ]
     },
     "execution_count": 24,
     "metadata": {},
     "output_type": "execute_result"
    }
   ],
   "source": [
    "#### 23. Create a custom dtype that describes a color as four unsigned bytes (RGBA) (★☆☆)\n",
    "\n",
    "np.dtype(\n",
    "    [\n",
    "        (\"r\", np.ubyte),\n",
    "        (\"g\", np.ubyte),\n",
    "        (\"b\", np.ubyte),\n",
    "        (\"a\", np.ubyte)\n",
    "    ]\n",
    ")"
   ]
  },
  {
   "cell_type": "code",
   "execution_count": 25,
   "id": "33e7a227",
   "metadata": {},
   "outputs": [
    {
     "data": {
      "text/plain": [
       "array([[0.49756921, 0.55057636],\n",
       "       [0.83221895, 1.29041898],\n",
       "       [0.70611064, 0.82415443],\n",
       "       [0.78872184, 1.03433646],\n",
       "       [0.41145538, 0.42741142]])"
      ]
     },
     "execution_count": 25,
     "metadata": {},
     "output_type": "execute_result"
    }
   ],
   "source": [
    "#### 24. Multiply a 5x3 matrix by a 3x2 matrix (real matrix product) (★☆☆)\n",
    "\n",
    "np.random.random((5, 3)) @ np.random.random((3,2))"
   ]
  },
  {
   "cell_type": "code",
   "execution_count": 26,
   "id": "7ab8c7b3",
   "metadata": {},
   "outputs": [
    {
     "data": {
      "text/plain": [
       "array([ 0,  1,  2,  3, -4, -5, -6, -7,  8,  9])"
      ]
     },
     "execution_count": 26,
     "metadata": {},
     "output_type": "execute_result"
    }
   ],
   "source": [
    "#### 25. Given a 1D array, negate all elements which are between 3 and 8, in place. (★☆☆)\n",
    "\n",
    "arr = np.arange(10)\n",
    "\n",
    "arr[(3 < arr) & (arr <8)] *= -1\n",
    "\n",
    "arr "
   ]
  },
  {
   "cell_type": "markdown",
   "id": "f4539e90",
   "metadata": {},
   "source": [
    "#### 26. What is the output of the following script? (★☆☆)\n"
   ]
  },
  {
   "cell_type": "code",
   "execution_count": 27,
   "id": "95fae2c2",
   "metadata": {},
   "outputs": [
    {
     "name": "stdout",
     "output_type": "stream",
     "text": [
      "9\n",
      "10\n"
     ]
    }
   ],
   "source": [
    "print(sum(range(5),-1))\n",
    "print(np.sum(range(5),-1))"
   ]
  },
  {
   "cell_type": "markdown",
   "id": "d779e8e6",
   "metadata": {},
   "source": [
    "#### 27. Consider an integer vector Z, which of these expressions are legal? (★☆☆)\n",
    "```python\n",
    "Z**Z\n",
    "2 << Z >> 2\n",
    "Z <- Z\n",
    "1j*Z\n",
    "Z/1/1\n",
    "Z<Z>Z\n",
    "```"
   ]
  },
  {
   "cell_type": "code",
   "execution_count": 28,
   "id": "f8cb4ae1",
   "metadata": {},
   "outputs": [
    {
     "data": {
      "text/plain": [
       "array([[0., 1., 0., 1., 0., 1., 0., 1.],\n",
       "       [1., 0., 1., 0., 1., 0., 1., 0.],\n",
       "       [0., 1., 0., 1., 0., 1., 0., 1.],\n",
       "       [1., 0., 1., 0., 1., 0., 1., 0.],\n",
       "       [0., 1., 0., 1., 0., 1., 0., 1.],\n",
       "       [1., 0., 1., 0., 1., 0., 1., 0.],\n",
       "       [0., 1., 0., 1., 0., 1., 0., 1.],\n",
       "       [1., 0., 1., 0., 1., 0., 1., 0.]])"
      ]
     },
     "execution_count": 28,
     "metadata": {},
     "output_type": "execute_result"
    }
   ],
   "source": [
    "z = np.empty(10)\n",
    "\n",
    "Z**Z\n",
    "2 << Z >> 2\n",
    "Z <- Z\n",
    "1j*Z\n",
    "Z/1/1\n",
    "# Z<Z>Z"
   ]
  },
  {
   "cell_type": "markdown",
   "id": "4a9d4b3e",
   "metadata": {},
   "source": [
    "#### 28. What are the result of the following expressions? (★☆☆)"
   ]
  },
  {
   "cell_type": "code",
   "execution_count": 29,
   "id": "09e3e711",
   "metadata": {},
   "outputs": [
    {
     "name": "stdout",
     "output_type": "stream",
     "text": [
      "nan\n",
      "0\n",
      "[0.]\n"
     ]
    },
    {
     "name": "stderr",
     "output_type": "stream",
     "text": [
      "/var/folders/_d/lppp9skx6dn73x36dpmmd7xc0000gn/T/ipykernel_27355/608921916.py:1: RuntimeWarning: invalid value encountered in divide\n",
      "  print(np.array(0) / np.array(0))\n",
      "/var/folders/_d/lppp9skx6dn73x36dpmmd7xc0000gn/T/ipykernel_27355/608921916.py:2: RuntimeWarning: divide by zero encountered in floor_divide\n",
      "  print(np.array(0) // np.array(0))\n",
      "/var/folders/_d/lppp9skx6dn73x36dpmmd7xc0000gn/T/ipykernel_27355/608921916.py:3: RuntimeWarning: invalid value encountered in cast\n",
      "  print(np.array([np.nan]).astype(int).astype(float))\n"
     ]
    }
   ],
   "source": [
    "\n",
    "print(np.array(0) / np.array(0))\n",
    "print(np.array(0) // np.array(0))\n",
    "print(np.array([np.nan]).astype(int).astype(float))"
   ]
  },
  {
   "cell_type": "markdown",
   "id": "f0455449",
   "metadata": {},
   "source": [
    "#### 29. How to round away from zero a float array ? (★☆☆)"
   ]
  },
  {
   "cell_type": "code",
   "execution_count": 30,
   "id": "230a4834",
   "metadata": {},
   "outputs": [
    {
     "name": "stdout",
     "output_type": "stream",
     "text": [
      "[ 9.  7.  1.  2. -6. -3.  6.  6. -8.  2.]\n"
     ]
    }
   ],
   "source": [
    "Z = np.random.uniform(-10,+10,10)\n",
    "\n",
    "print(np.copysign(np.ceil(np.abs(Z)), Z))"
   ]
  },
  {
   "cell_type": "markdown",
   "id": "7a4f7686",
   "metadata": {},
   "source": [
    "#### 30. How to find common values between two arrays? (★☆☆)"
   ]
  },
  {
   "cell_type": "code",
   "execution_count": 31,
   "id": "12e3dd6e",
   "metadata": {},
   "outputs": [
    {
     "data": {
      "text/plain": [
       "(array([0, 7, 7, 7, 5, 7, 5, 7, 4, 9]),\n",
       " array([8, 8, 8, 4, 4, 8, 7, 2, 2, 4]),\n",
       " array([4, 7]))"
      ]
     },
     "execution_count": 31,
     "metadata": {},
     "output_type": "execute_result"
    }
   ],
   "source": [
    "z1 = np.random.randint(0, 10, 10)\n",
    "z2 = np.random.randint(0, 10, 10)\n",
    "\n",
    "z1, z2, np.intersect1d(z1, z2)"
   ]
  },
  {
   "cell_type": "markdown",
   "id": "e233646f",
   "metadata": {},
   "source": [
    "#### 31. How to ignore all numpy warnings (not recommended)? (★☆☆)"
   ]
  },
  {
   "cell_type": "code",
   "execution_count": 32,
   "id": "aecc7da6",
   "metadata": {},
   "outputs": [],
   "source": [
    "# Suicide mode on\n",
    "defaults = np.seterr(all=\"ignore\")\n",
    "Z = np.ones(1) / 0\n",
    "\n",
    "# Back to sanity\n",
    "_ = np.seterr(**defaults)"
   ]
  },
  {
   "cell_type": "markdown",
   "id": "d166a39d",
   "metadata": {},
   "source": [
    "#### 32. Is the following expressions true? (★☆☆)"
   ]
  },
  {
   "cell_type": "code",
   "execution_count": 33,
   "id": "62e1ed3f",
   "metadata": {},
   "outputs": [
    {
     "name": "stderr",
     "output_type": "stream",
     "text": [
      "/var/folders/_d/lppp9skx6dn73x36dpmmd7xc0000gn/T/ipykernel_27355/244602691.py:1: RuntimeWarning: invalid value encountered in sqrt\n",
      "  np.sqrt(-1) == np.emath.sqrt(-1)\n"
     ]
    },
    {
     "data": {
      "text/plain": [
       "False"
      ]
     },
     "execution_count": 33,
     "metadata": {},
     "output_type": "execute_result"
    }
   ],
   "source": [
    "np.sqrt(-1) == np.emath.sqrt(-1)"
   ]
  },
  {
   "cell_type": "code",
   "execution_count": 34,
   "id": "b7544d71",
   "metadata": {},
   "outputs": [
    {
     "data": {
      "text/plain": [
       "1j"
      ]
     },
     "execution_count": 34,
     "metadata": {},
     "output_type": "execute_result"
    }
   ],
   "source": [
    "np.emath.sqrt(-1)"
   ]
  },
  {
   "cell_type": "markdown",
   "id": "b8ac1d65",
   "metadata": {},
   "source": [
    "#### 33. How to get the dates of yesterday, today and tomorrow? (★☆☆)"
   ]
  },
  {
   "cell_type": "code",
   "execution_count": 35,
   "id": "a1a3fc5a",
   "metadata": {},
   "outputs": [
    {
     "name": "stdout",
     "output_type": "stream",
     "text": [
      "2025-10-18\n",
      "2025-10-19\n",
      "2025-10-20\n"
     ]
    }
   ],
   "source": [
    "yesterday = np.datetime64('today') - np.timedelta64(1)\n",
    "today     = np.datetime64('today')\n",
    "tomorrow  = np.datetime64('today') + np.timedelta64(1)\n",
    "\n",
    "print(yesterday)\n",
    "print(today)\n",
    "print(tomorrow)"
   ]
  },
  {
   "cell_type": "markdown",
   "id": "8e455a76",
   "metadata": {},
   "source": [
    "#### 34. How to get all the dates corresponding to the month of July 2016? (★★☆)"
   ]
  },
  {
   "cell_type": "code",
   "execution_count": 36,
   "id": "c8ccceee",
   "metadata": {},
   "outputs": [
    {
     "name": "stdout",
     "output_type": "stream",
     "text": [
      "['2016-07-01' '2016-07-02' '2016-07-03' '2016-07-04' '2016-07-05'\n",
      " '2016-07-06' '2016-07-07' '2016-07-08' '2016-07-09' '2016-07-10'\n",
      " '2016-07-11' '2016-07-12' '2016-07-13' '2016-07-14' '2016-07-15'\n",
      " '2016-07-16' '2016-07-17' '2016-07-18' '2016-07-19' '2016-07-20'\n",
      " '2016-07-21' '2016-07-22' '2016-07-23' '2016-07-24' '2016-07-25'\n",
      " '2016-07-26' '2016-07-27' '2016-07-28' '2016-07-29' '2016-07-30'\n",
      " '2016-07-31']\n"
     ]
    }
   ],
   "source": [
    "Z = np.arange('2016-07', '2016-08', dtype='datetime64[D]')\n",
    "print(Z)"
   ]
  },
  {
   "cell_type": "markdown",
   "id": "da7b6ca2",
   "metadata": {},
   "source": [
    "#### 35. How to compute ((A+B)*(-A/2)) in place (without copy)? (★★☆)"
   ]
  },
  {
   "cell_type": "code",
   "execution_count": 37,
   "id": "07b5514a",
   "metadata": {},
   "outputs": [
    {
     "data": {
      "text/plain": [
       "array([-1.5, -1.5, -1.5])"
      ]
     },
     "execution_count": 37,
     "metadata": {},
     "output_type": "execute_result"
    }
   ],
   "source": [
    "A = np.ones(3)*1\n",
    "B = np.ones(3)*2\n",
    "np.add(A,B,out=B)\n",
    "np.divide(A,2,out=A)\n",
    "np.negative(A,out=A)\n",
    "np.multiply(A,B,out=A)"
   ]
  },
  {
   "cell_type": "markdown",
   "id": "94a7579d",
   "metadata": {},
   "source": [
    "#### 36. Extract the integer part of a random array of positive numbers using 4 different methods (★★☆)"
   ]
  },
  {
   "cell_type": "code",
   "execution_count": 38,
   "id": "95b51dda",
   "metadata": {},
   "outputs": [
    {
     "name": "stdout",
     "output_type": "stream",
     "text": [
      "[7. 1. 4. 9. 8. 1. 4. 1. 8. 9. 0. 6. 3. 6. 2.]\n",
      "[7. 1. 4. 9. 8. 1. 4. 1. 8. 9. 0. 6. 3. 6. 2.]\n",
      "[7. 1. 4. 9. 8. 1. 4. 1. 8. 9. 0. 6. 3. 6. 2.]\n",
      "[7 1 4 9 8 1 4 1 8 9 0 6 3 6 2]\n"
     ]
    }
   ],
   "source": [
    "Z = np.random.uniform(0, 10, 15)\n",
    "print(Z - Z%1)\n",
    "print(Z // 1)\n",
    "print(np.floor(Z))\n",
    "print(Z.astype(int))"
   ]
  },
  {
   "cell_type": "markdown",
   "id": "2f6df1be",
   "metadata": {},
   "source": [
    "#### 37. Create a 5x5 matrix with row values ranging from 0 to 4 (★★☆)"
   ]
  },
  {
   "cell_type": "code",
   "execution_count": 39,
   "id": "e55d766a",
   "metadata": {},
   "outputs": [
    {
     "name": "stdout",
     "output_type": "stream",
     "text": [
      "[[0. 1. 2. 3. 4.]\n",
      " [0. 1. 2. 3. 4.]\n",
      " [0. 1. 2. 3. 4.]\n",
      " [0. 1. 2. 3. 4.]\n",
      " [0. 1. 2. 3. 4.]]\n"
     ]
    }
   ],
   "source": [
    "Z = np.zeros((5,5))\n",
    "Z += np.arange(5)\n",
    "print(Z)"
   ]
  },
  {
   "cell_type": "code",
   "execution_count": 40,
   "id": "591c41fb",
   "metadata": {},
   "outputs": [
    {
     "data": {
      "text/plain": [
       "array([[0, 1, 2, 3, 4],\n",
       "       [0, 1, 2, 3, 4],\n",
       "       [0, 1, 2, 3, 4],\n",
       "       [0, 1, 2, 3, 4],\n",
       "       [0, 1, 2, 3, 4]])"
      ]
     },
     "execution_count": 40,
     "metadata": {},
     "output_type": "execute_result"
    }
   ],
   "source": [
    "Z = np.tile(np.arange(0, 5), (5,1))\n",
    "Z"
   ]
  },
  {
   "cell_type": "markdown",
   "id": "7a301fd9",
   "metadata": {},
   "source": [
    "#### 38. Consider a generator function that generates 10 integers and use it to build an array (★☆☆)"
   ]
  },
  {
   "cell_type": "code",
   "execution_count": 41,
   "id": "ecf1a263",
   "metadata": {},
   "outputs": [
    {
     "name": "stdout",
     "output_type": "stream",
     "text": [
      "[0. 1. 2. 3. 4. 5. 6. 7. 8. 9.]\n"
     ]
    }
   ],
   "source": [
    "def generate():\n",
    "    for x in range(10):\n",
    "        yield x\n",
    "Z = np.fromiter(generate(),dtype=float,count=-1)\n",
    "print(Z)"
   ]
  },
  {
   "cell_type": "markdown",
   "id": "fb8fef95",
   "metadata": {},
   "source": [
    "#### 39. Create a vector of size 10 with values ranging from 0 to 1, both excluded (★★☆)"
   ]
  },
  {
   "cell_type": "code",
   "execution_count": 42,
   "id": "6313abd5",
   "metadata": {},
   "outputs": [
    {
     "data": {
      "text/plain": [
       "array([0.09090909, 0.18181818, 0.27272727, 0.36363636, 0.45454545,\n",
       "       0.54545455, 0.63636364, 0.72727273, 0.81818182, 0.90909091])"
      ]
     },
     "execution_count": 42,
     "metadata": {},
     "output_type": "execute_result"
    }
   ],
   "source": [
    "np.linspace(0, 1, 11, endpoint=False)[1:]"
   ]
  },
  {
   "cell_type": "markdown",
   "id": "7f5c4d11",
   "metadata": {},
   "source": [
    "#### 40. Create a random vector of size 10 and sort it (★★☆)"
   ]
  },
  {
   "cell_type": "code",
   "execution_count": 43,
   "id": "6fb9365d",
   "metadata": {},
   "outputs": [
    {
     "data": {
      "text/plain": [
       "array([0.12672412, 0.17456717, 0.43204642, 0.46280455, 0.47542825,\n",
       "       0.56441089, 0.85230578, 0.87198201, 0.92375409, 0.93890974])"
      ]
     },
     "execution_count": 43,
     "metadata": {},
     "output_type": "execute_result"
    }
   ],
   "source": [
    "a = np.random.random(10)\n",
    "a.sort()\n",
    "a"
   ]
  },
  {
   "cell_type": "markdown",
   "id": "b8855156",
   "metadata": {},
   "source": [
    "#### 41. How to sum a small array faster than np.sum? (★★☆)"
   ]
  },
  {
   "cell_type": "code",
   "execution_count": 44,
   "id": "07c83630",
   "metadata": {},
   "outputs": [
    {
     "data": {
      "text/plain": [
       "45"
      ]
     },
     "execution_count": 44,
     "metadata": {},
     "output_type": "execute_result"
    }
   ],
   "source": [
    "Z = np.arange(10)\n",
    "np.add.reduce(Z)"
   ]
  },
  {
   "cell_type": "markdown",
   "id": "c775e15f",
   "metadata": {},
   "source": [
    "#### 42. Consider two random arrays A and B, check if they are equal (★★☆)"
   ]
  },
  {
   "cell_type": "code",
   "execution_count": 45,
   "id": "01c13621",
   "metadata": {},
   "outputs": [
    {
     "name": "stdout",
     "output_type": "stream",
     "text": [
      "False\n"
     ]
    }
   ],
   "source": [
    "A = np.random.randint(0,2,5)\n",
    "B = np.random.randint(0,2,5)\n",
    "\n",
    "# Assuming identical shape of the arrays and a tolerance for the comparison of values\n",
    "equal = np.allclose(A,B)\n",
    "print(equal)"
   ]
  },
  {
   "cell_type": "code",
   "execution_count": 46,
   "id": "a5dce9ae",
   "metadata": {},
   "outputs": [
    {
     "name": "stdout",
     "output_type": "stream",
     "text": [
      "False\n"
     ]
    }
   ],
   "source": [
    "equal = np.array_equal(A,B)\n",
    "print(equal)"
   ]
  },
  {
   "cell_type": "markdown",
   "id": "f7287b8c",
   "metadata": {},
   "source": [
    "#### 43. Make an array immutable (read-only) (★★☆)"
   ]
  },
  {
   "cell_type": "code",
   "execution_count": 47,
   "id": "d21580d4",
   "metadata": {},
   "outputs": [],
   "source": [
    "Z = np.zeros(10)\n",
    "Z.flags.writeable = False\n",
    "# Z[0] = 1"
   ]
  },
  {
   "cell_type": "markdown",
   "id": "9241e400",
   "metadata": {},
   "source": [
    "#### 44. Consider a random 10x2 matrix representing cartesian coordinates, convert them to polar coordinates (★★☆)"
   ]
  },
  {
   "cell_type": "code",
   "execution_count": 48,
   "id": "3c87ac7b",
   "metadata": {},
   "outputs": [],
   "source": [
    "mat = np.random.random((10,2))\n",
    "\n",
    "out = np.column_stack((\n",
    "    np.hypot(mat[:, 0], mat[:, 1]),          # radius\n",
    "    np.arctan2(mat[:, 1], mat[:, 0])         # angle (radians)\n",
    "))"
   ]
  },
  {
   "cell_type": "markdown",
   "id": "6deb6eeb",
   "metadata": {},
   "source": [
    "#### 45. Create random vector of size 10 and replace the maximum value by 0 (★★☆)"
   ]
  },
  {
   "cell_type": "code",
   "execution_count": 49,
   "id": "113b815f",
   "metadata": {},
   "outputs": [
    {
     "data": {
      "text/plain": [
       "array([0.11665051, 0.29045914, 0.45374691, 0.35722005, 0.3045012 ,\n",
       "       0.35416076, 0.81003871, 0.1010137 , 0.        , 0.60757759])"
      ]
     },
     "execution_count": 49,
     "metadata": {},
     "output_type": "execute_result"
    }
   ],
   "source": [
    "Z = np.random.random(10)\n",
    "Z[np.argmax(Z)] = 0\n",
    "Z"
   ]
  },
  {
   "cell_type": "markdown",
   "id": "150bacfc",
   "metadata": {},
   "source": [
    "#### 46. Create a structured array with `x` and `y` coordinates covering the [0,1]x[0,1] area (★★☆)"
   ]
  },
  {
   "cell_type": "code",
   "execution_count": 50,
   "id": "84701ccd",
   "metadata": {},
   "outputs": [
    {
     "name": "stdout",
     "output_type": "stream",
     "text": [
      "[[(0.  , 0.  ) (0.25, 0.  ) (0.5 , 0.  ) (0.75, 0.  ) (1.  , 0.  )]\n",
      " [(0.  , 0.25) (0.25, 0.25) (0.5 , 0.25) (0.75, 0.25) (1.  , 0.25)]\n",
      " [(0.  , 0.5 ) (0.25, 0.5 ) (0.5 , 0.5 ) (0.75, 0.5 ) (1.  , 0.5 )]\n",
      " [(0.  , 0.75) (0.25, 0.75) (0.5 , 0.75) (0.75, 0.75) (1.  , 0.75)]\n",
      " [(0.  , 1.  ) (0.25, 1.  ) (0.5 , 1.  ) (0.75, 1.  ) (1.  , 1.  )]]\n"
     ]
    }
   ],
   "source": [
    "Z = np.zeros((5,5), [('x',float),('y',float)])\n",
    "Z['x'], Z['y'] = np.meshgrid(np.linspace(0,1,5),\n",
    "                             np.linspace(0,1,5))\n",
    "print(Z)"
   ]
  },
  {
   "cell_type": "markdown",
   "id": "216cba96",
   "metadata": {},
   "source": [
    "#### 47. Given two arrays, X and Y, construct the Cauchy matrix C (Cij =1/(xi - yj)) (★★☆)"
   ]
  },
  {
   "cell_type": "code",
   "execution_count": 51,
   "id": "ae553814",
   "metadata": {},
   "outputs": [
    {
     "name": "stdout",
     "output_type": "stream",
     "text": [
      "3638.1636371179666\n"
     ]
    }
   ],
   "source": [
    "# x = np.random.random((1,10))\n",
    "# y = np.random.random((10,1))\n",
    "\n",
    "# 1/(x - y )\n",
    "\n",
    "X = np.arange(8)\n",
    "Y = X + 0.5\n",
    "C = 1.0 / np.subtract.outer(X, Y)\n",
    "print(np.linalg.det(C))"
   ]
  },
  {
   "cell_type": "markdown",
   "id": "c35f0a68",
   "metadata": {},
   "source": [
    "#### 48. Print the minimum and maximum representable values for each numpy scalar type (★★☆)"
   ]
  },
  {
   "cell_type": "code",
   "execution_count": 52,
   "id": "702cf5c4",
   "metadata": {},
   "outputs": [
    {
     "name": "stdout",
     "output_type": "stream",
     "text": [
      "-128\n",
      "127\n",
      "-2147483648\n",
      "2147483647\n",
      "-9223372036854775808\n",
      "9223372036854775807\n",
      "-3.4028235e+38\n",
      "3.4028235e+38\n",
      "1.1920929e-07\n",
      "-1.7976931348623157e+308\n",
      "1.7976931348623157e+308\n",
      "2.220446049250313e-16\n"
     ]
    }
   ],
   "source": [
    "for dtype in [np.int8, np.int32, np.int64]:\n",
    "   print(np.iinfo(dtype).min)\n",
    "   print(np.iinfo(dtype).max)\n",
    "for dtype in [np.float32, np.float64]:\n",
    "   print(np.finfo(dtype).min)\n",
    "   print(np.finfo(dtype).max)\n",
    "   print(np.finfo(dtype).eps)"
   ]
  },
  {
   "cell_type": "markdown",
   "id": "a6d419ef",
   "metadata": {},
   "source": [
    "#### 49. How to print all the values of an array? (★★☆)"
   ]
  },
  {
   "cell_type": "code",
   "execution_count": 53,
   "id": "c6dd6ca9",
   "metadata": {},
   "outputs": [
    {
     "name": "stdout",
     "output_type": "stream",
     "text": [
      "[[0. 0. 0. 0. 0. 0. 0. 0. 0. 0. 0. 0. 0. 0. 0. 0. 0. 0. 0. 0. 0. 0. 0. 0.\n",
      "  0. 0. 0. 0. 0. 0. 0. 0. 0. 0. 0. 0. 0. 0. 0. 0.]\n",
      " [0. 0. 0. 0. 0. 0. 0. 0. 0. 0. 0. 0. 0. 0. 0. 0. 0. 0. 0. 0. 0. 0. 0. 0.\n",
      "  0. 0. 0. 0. 0. 0. 0. 0. 0. 0. 0. 0. 0. 0. 0. 0.]\n",
      " [0. 0. 0. 0. 0. 0. 0. 0. 0. 0. 0. 0. 0. 0. 0. 0. 0. 0. 0. 0. 0. 0. 0. 0.\n",
      "  0. 0. 0. 0. 0. 0. 0. 0. 0. 0. 0. 0. 0. 0. 0. 0.]\n",
      " [0. 0. 0. 0. 0. 0. 0. 0. 0. 0. 0. 0. 0. 0. 0. 0. 0. 0. 0. 0. 0. 0. 0. 0.\n",
      "  0. 0. 0. 0. 0. 0. 0. 0. 0. 0. 0. 0. 0. 0. 0. 0.]\n",
      " [0. 0. 0. 0. 0. 0. 0. 0. 0. 0. 0. 0. 0. 0. 0. 0. 0. 0. 0. 0. 0. 0. 0. 0.\n",
      "  0. 0. 0. 0. 0. 0. 0. 0. 0. 0. 0. 0. 0. 0. 0. 0.]\n",
      " [0. 0. 0. 0. 0. 0. 0. 0. 0. 0. 0. 0. 0. 0. 0. 0. 0. 0. 0. 0. 0. 0. 0. 0.\n",
      "  0. 0. 0. 0. 0. 0. 0. 0. 0. 0. 0. 0. 0. 0. 0. 0.]\n",
      " [0. 0. 0. 0. 0. 0. 0. 0. 0. 0. 0. 0. 0. 0. 0. 0. 0. 0. 0. 0. 0. 0. 0. 0.\n",
      "  0. 0. 0. 0. 0. 0. 0. 0. 0. 0. 0. 0. 0. 0. 0. 0.]\n",
      " [0. 0. 0. 0. 0. 0. 0. 0. 0. 0. 0. 0. 0. 0. 0. 0. 0. 0. 0. 0. 0. 0. 0. 0.\n",
      "  0. 0. 0. 0. 0. 0. 0. 0. 0. 0. 0. 0. 0. 0. 0. 0.]\n",
      " [0. 0. 0. 0. 0. 0. 0. 0. 0. 0. 0. 0. 0. 0. 0. 0. 0. 0. 0. 0. 0. 0. 0. 0.\n",
      "  0. 0. 0. 0. 0. 0. 0. 0. 0. 0. 0. 0. 0. 0. 0. 0.]\n",
      " [0. 0. 0. 0. 0. 0. 0. 0. 0. 0. 0. 0. 0. 0. 0. 0. 0. 0. 0. 0. 0. 0. 0. 0.\n",
      "  0. 0. 0. 0. 0. 0. 0. 0. 0. 0. 0. 0. 0. 0. 0. 0.]\n",
      " [0. 0. 0. 0. 0. 0. 0. 0. 0. 0. 0. 0. 0. 0. 0. 0. 0. 0. 0. 0. 0. 0. 0. 0.\n",
      "  0. 0. 0. 0. 0. 0. 0. 0. 0. 0. 0. 0. 0. 0. 0. 0.]\n",
      " [0. 0. 0. 0. 0. 0. 0. 0. 0. 0. 0. 0. 0. 0. 0. 0. 0. 0. 0. 0. 0. 0. 0. 0.\n",
      "  0. 0. 0. 0. 0. 0. 0. 0. 0. 0. 0. 0. 0. 0. 0. 0.]\n",
      " [0. 0. 0. 0. 0. 0. 0. 0. 0. 0. 0. 0. 0. 0. 0. 0. 0. 0. 0. 0. 0. 0. 0. 0.\n",
      "  0. 0. 0. 0. 0. 0. 0. 0. 0. 0. 0. 0. 0. 0. 0. 0.]\n",
      " [0. 0. 0. 0. 0. 0. 0. 0. 0. 0. 0. 0. 0. 0. 0. 0. 0. 0. 0. 0. 0. 0. 0. 0.\n",
      "  0. 0. 0. 0. 0. 0. 0. 0. 0. 0. 0. 0. 0. 0. 0. 0.]\n",
      " [0. 0. 0. 0. 0. 0. 0. 0. 0. 0. 0. 0. 0. 0. 0. 0. 0. 0. 0. 0. 0. 0. 0. 0.\n",
      "  0. 0. 0. 0. 0. 0. 0. 0. 0. 0. 0. 0. 0. 0. 0. 0.]\n",
      " [0. 0. 0. 0. 0. 0. 0. 0. 0. 0. 0. 0. 0. 0. 0. 0. 0. 0. 0. 0. 0. 0. 0. 0.\n",
      "  0. 0. 0. 0. 0. 0. 0. 0. 0. 0. 0. 0. 0. 0. 0. 0.]\n",
      " [0. 0. 0. 0. 0. 0. 0. 0. 0. 0. 0. 0. 0. 0. 0. 0. 0. 0. 0. 0. 0. 0. 0. 0.\n",
      "  0. 0. 0. 0. 0. 0. 0. 0. 0. 0. 0. 0. 0. 0. 0. 0.]\n",
      " [0. 0. 0. 0. 0. 0. 0. 0. 0. 0. 0. 0. 0. 0. 0. 0. 0. 0. 0. 0. 0. 0. 0. 0.\n",
      "  0. 0. 0. 0. 0. 0. 0. 0. 0. 0. 0. 0. 0. 0. 0. 0.]\n",
      " [0. 0. 0. 0. 0. 0. 0. 0. 0. 0. 0. 0. 0. 0. 0. 0. 0. 0. 0. 0. 0. 0. 0. 0.\n",
      "  0. 0. 0. 0. 0. 0. 0. 0. 0. 0. 0. 0. 0. 0. 0. 0.]\n",
      " [0. 0. 0. 0. 0. 0. 0. 0. 0. 0. 0. 0. 0. 0. 0. 0. 0. 0. 0. 0. 0. 0. 0. 0.\n",
      "  0. 0. 0. 0. 0. 0. 0. 0. 0. 0. 0. 0. 0. 0. 0. 0.]\n",
      " [0. 0. 0. 0. 0. 0. 0. 0. 0. 0. 0. 0. 0. 0. 0. 0. 0. 0. 0. 0. 0. 0. 0. 0.\n",
      "  0. 0. 0. 0. 0. 0. 0. 0. 0. 0. 0. 0. 0. 0. 0. 0.]\n",
      " [0. 0. 0. 0. 0. 0. 0. 0. 0. 0. 0. 0. 0. 0. 0. 0. 0. 0. 0. 0. 0. 0. 0. 0.\n",
      "  0. 0. 0. 0. 0. 0. 0. 0. 0. 0. 0. 0. 0. 0. 0. 0.]\n",
      " [0. 0. 0. 0. 0. 0. 0. 0. 0. 0. 0. 0. 0. 0. 0. 0. 0. 0. 0. 0. 0. 0. 0. 0.\n",
      "  0. 0. 0. 0. 0. 0. 0. 0. 0. 0. 0. 0. 0. 0. 0. 0.]\n",
      " [0. 0. 0. 0. 0. 0. 0. 0. 0. 0. 0. 0. 0. 0. 0. 0. 0. 0. 0. 0. 0. 0. 0. 0.\n",
      "  0. 0. 0. 0. 0. 0. 0. 0. 0. 0. 0. 0. 0. 0. 0. 0.]\n",
      " [0. 0. 0. 0. 0. 0. 0. 0. 0. 0. 0. 0. 0. 0. 0. 0. 0. 0. 0. 0. 0. 0. 0. 0.\n",
      "  0. 0. 0. 0. 0. 0. 0. 0. 0. 0. 0. 0. 0. 0. 0. 0.]\n",
      " [0. 0. 0. 0. 0. 0. 0. 0. 0. 0. 0. 0. 0. 0. 0. 0. 0. 0. 0. 0. 0. 0. 0. 0.\n",
      "  0. 0. 0. 0. 0. 0. 0. 0. 0. 0. 0. 0. 0. 0. 0. 0.]\n",
      " [0. 0. 0. 0. 0. 0. 0. 0. 0. 0. 0. 0. 0. 0. 0. 0. 0. 0. 0. 0. 0. 0. 0. 0.\n",
      "  0. 0. 0. 0. 0. 0. 0. 0. 0. 0. 0. 0. 0. 0. 0. 0.]\n",
      " [0. 0. 0. 0. 0. 0. 0. 0. 0. 0. 0. 0. 0. 0. 0. 0. 0. 0. 0. 0. 0. 0. 0. 0.\n",
      "  0. 0. 0. 0. 0. 0. 0. 0. 0. 0. 0. 0. 0. 0. 0. 0.]\n",
      " [0. 0. 0. 0. 0. 0. 0. 0. 0. 0. 0. 0. 0. 0. 0. 0. 0. 0. 0. 0. 0. 0. 0. 0.\n",
      "  0. 0. 0. 0. 0. 0. 0. 0. 0. 0. 0. 0. 0. 0. 0. 0.]\n",
      " [0. 0. 0. 0. 0. 0. 0. 0. 0. 0. 0. 0. 0. 0. 0. 0. 0. 0. 0. 0. 0. 0. 0. 0.\n",
      "  0. 0. 0. 0. 0. 0. 0. 0. 0. 0. 0. 0. 0. 0. 0. 0.]\n",
      " [0. 0. 0. 0. 0. 0. 0. 0. 0. 0. 0. 0. 0. 0. 0. 0. 0. 0. 0. 0. 0. 0. 0. 0.\n",
      "  0. 0. 0. 0. 0. 0. 0. 0. 0. 0. 0. 0. 0. 0. 0. 0.]\n",
      " [0. 0. 0. 0. 0. 0. 0. 0. 0. 0. 0. 0. 0. 0. 0. 0. 0. 0. 0. 0. 0. 0. 0. 0.\n",
      "  0. 0. 0. 0. 0. 0. 0. 0. 0. 0. 0. 0. 0. 0. 0. 0.]\n",
      " [0. 0. 0. 0. 0. 0. 0. 0. 0. 0. 0. 0. 0. 0. 0. 0. 0. 0. 0. 0. 0. 0. 0. 0.\n",
      "  0. 0. 0. 0. 0. 0. 0. 0. 0. 0. 0. 0. 0. 0. 0. 0.]\n",
      " [0. 0. 0. 0. 0. 0. 0. 0. 0. 0. 0. 0. 0. 0. 0. 0. 0. 0. 0. 0. 0. 0. 0. 0.\n",
      "  0. 0. 0. 0. 0. 0. 0. 0. 0. 0. 0. 0. 0. 0. 0. 0.]\n",
      " [0. 0. 0. 0. 0. 0. 0. 0. 0. 0. 0. 0. 0. 0. 0. 0. 0. 0. 0. 0. 0. 0. 0. 0.\n",
      "  0. 0. 0. 0. 0. 0. 0. 0. 0. 0. 0. 0. 0. 0. 0. 0.]\n",
      " [0. 0. 0. 0. 0. 0. 0. 0. 0. 0. 0. 0. 0. 0. 0. 0. 0. 0. 0. 0. 0. 0. 0. 0.\n",
      "  0. 0. 0. 0. 0. 0. 0. 0. 0. 0. 0. 0. 0. 0. 0. 0.]\n",
      " [0. 0. 0. 0. 0. 0. 0. 0. 0. 0. 0. 0. 0. 0. 0. 0. 0. 0. 0. 0. 0. 0. 0. 0.\n",
      "  0. 0. 0. 0. 0. 0. 0. 0. 0. 0. 0. 0. 0. 0. 0. 0.]\n",
      " [0. 0. 0. 0. 0. 0. 0. 0. 0. 0. 0. 0. 0. 0. 0. 0. 0. 0. 0. 0. 0. 0. 0. 0.\n",
      "  0. 0. 0. 0. 0. 0. 0. 0. 0. 0. 0. 0. 0. 0. 0. 0.]\n",
      " [0. 0. 0. 0. 0. 0. 0. 0. 0. 0. 0. 0. 0. 0. 0. 0. 0. 0. 0. 0. 0. 0. 0. 0.\n",
      "  0. 0. 0. 0. 0. 0. 0. 0. 0. 0. 0. 0. 0. 0. 0. 0.]\n",
      " [0. 0. 0. 0. 0. 0. 0. 0. 0. 0. 0. 0. 0. 0. 0. 0. 0. 0. 0. 0. 0. 0. 0. 0.\n",
      "  0. 0. 0. 0. 0. 0. 0. 0. 0. 0. 0. 0. 0. 0. 0. 0.]]\n"
     ]
    }
   ],
   "source": [
    "np.set_printoptions(threshold=float(\"inf\"))\n",
    "Z = np.zeros((40,40))\n",
    "print(Z)"
   ]
  },
  {
   "cell_type": "markdown",
   "id": "d4228bd5",
   "metadata": {},
   "source": [
    "#### 50. How to find the closest value (to a given scalar) in a vector? (★★☆)"
   ]
  },
  {
   "cell_type": "code",
   "execution_count": 54,
   "id": "1b4ada0e",
   "metadata": {},
   "outputs": [
    {
     "data": {
      "text/plain": [
       "0.6191678394630936"
      ]
     },
     "execution_count": 54,
     "metadata": {},
     "output_type": "execute_result"
    }
   ],
   "source": [
    "arr = np.random.random(10)\n",
    "\n",
    "arr[np.abs(arr - 0.5 ).argmin()]"
   ]
  },
  {
   "cell_type": "markdown",
   "id": "d41b8b3f",
   "metadata": {},
   "source": [
    "#### 51. Create a structured array representing a position (x,y) and a color (r,g,b) (★★☆)"
   ]
  },
  {
   "cell_type": "code",
   "execution_count": 55,
   "id": "70f7ae72",
   "metadata": {},
   "outputs": [
    {
     "name": "stdout",
     "output_type": "stream",
     "text": [
      "[((0., 0.), (0., 0., 0.)) ((0., 0.), (0., 0., 0.))\n",
      " ((0., 0.), (0., 0., 0.)) ((0., 0.), (0., 0., 0.))\n",
      " ((0., 0.), (0., 0., 0.)) ((0., 0.), (0., 0., 0.))\n",
      " ((0., 0.), (0., 0., 0.)) ((0., 0.), (0., 0., 0.))\n",
      " ((0., 0.), (0., 0., 0.)) ((0., 0.), (0., 0., 0.))]\n"
     ]
    },
    {
     "name": "stderr",
     "output_type": "stream",
     "text": [
      "/var/folders/_d/lppp9skx6dn73x36dpmmd7xc0000gn/T/ipykernel_27355/274409719.py:1: FutureWarning: Passing (type, 1) or '1type' as a synonym of type is deprecated; in a future version of numpy, it will be understood as (type, (1,)) / '(1,)type'.\n",
      "  Z = np.zeros(10, [ ('position', [ ('x', float, 1),\n"
     ]
    }
   ],
   "source": [
    "Z = np.zeros(10, [ ('position', [ ('x', float, 1),\n",
    "                                  ('y', float, 1)]),\n",
    "                   ('color',    [ ('r', float, 1),\n",
    "                                  ('g', float, 1),\n",
    "                                  ('b', float, 1)])])\n",
    "print(Z)"
   ]
  },
  {
   "cell_type": "markdown",
   "id": "76015f08",
   "metadata": {},
   "source": [
    "#### 52. Consider a random vector with shape (100,2) representing coordinates, find point by point distances (★★☆)"
   ]
  },
  {
   "cell_type": "code",
   "execution_count": 56,
   "id": "de5376ea",
   "metadata": {},
   "outputs": [
    {
     "data": {
      "text/plain": [
       "(100, 100)"
      ]
     },
     "execution_count": 56,
     "metadata": {},
     "output_type": "execute_result"
    }
   ],
   "source": [
    "mat = np.random.random((100, 2))\n",
    "\n",
    "X, Y = mat[:,0], mat[:,1]\n",
    "\n",
    "dist = np.sqrt(\n",
    "    (X[:, None] - X[None, :])**2 +\n",
    "    (Y[:, None] - Y[None, :])**2\n",
    ")\n",
    "dist.shape"
   ]
  },
  {
   "cell_type": "markdown",
   "id": "d2bed5ac",
   "metadata": {},
   "source": [
    "#### 53. How to convert a float (32 bits) array into an integer (32 bits) array in place?"
   ]
  },
  {
   "cell_type": "code",
   "execution_count": 57,
   "id": "799a6c3c",
   "metadata": {},
   "outputs": [
    {
     "name": "stdout",
     "output_type": "stream",
     "text": [
      "[44 83 53 39 39 73 92  1 53  3]\n"
     ]
    }
   ],
   "source": [
    "Z = (np.random.rand(10)*100).astype(np.float32)\n",
    "Y = Z.view(np.int32)\n",
    "Y[:] = Z\n",
    "print(Y)"
   ]
  },
  {
   "cell_type": "markdown",
   "id": "499383c5",
   "metadata": {},
   "source": [
    "#### 54. How to read the following file? (★★☆)"
   ]
  },
  {
   "cell_type": "code",
   "execution_count": 58,
   "id": "17beee05",
   "metadata": {},
   "outputs": [
    {
     "name": "stdout",
     "output_type": "stream",
     "text": [
      "[[ 1  2  3  4  5]\n",
      " [ 6 -1 -1  7  8]\n",
      " [-1 -1  9 10 11]]\n"
     ]
    }
   ],
   "source": [
    "from io import StringIO\n",
    "\n",
    "# Fake file\n",
    "s = StringIO('''1, 2, 3, 4, 5\n",
    "\n",
    "                6,  ,  , 7, 8\n",
    "\n",
    "                 ,  , 9,10,11\n",
    "''')\n",
    "Z = np.genfromtxt(s, delimiter=\",\", dtype=np.int8)\n",
    "print(Z)"
   ]
  },
  {
   "cell_type": "markdown",
   "id": "c2524e45",
   "metadata": {},
   "source": [
    "#### 55. What is the equivalent of enumerate for numpy arrays? (★★☆)"
   ]
  },
  {
   "cell_type": "code",
   "execution_count": 59,
   "id": "38b577b7",
   "metadata": {},
   "outputs": [
    {
     "name": "stdout",
     "output_type": "stream",
     "text": [
      "(0, 0) 0\n",
      "(0, 1) 1\n",
      "(0, 2) 2\n",
      "(1, 0) 3\n",
      "(1, 1) 4\n",
      "(1, 2) 5\n",
      "(2, 0) 6\n",
      "(2, 1) 7\n",
      "(2, 2) 8\n",
      "V2\n",
      "(0, 0) 0\n",
      "(0, 1) 1\n",
      "(0, 2) 2\n",
      "(1, 0) 3\n",
      "(1, 1) 4\n",
      "(1, 2) 5\n",
      "(2, 0) 6\n",
      "(2, 1) 7\n",
      "(2, 2) 8\n"
     ]
    }
   ],
   "source": [
    "Z = np.arange(9).reshape(3,3)\n",
    "\n",
    "for index, value in np.ndenumerate(Z):\n",
    "    print(index, value)\n",
    "\n",
    "print(\"V2\")\n",
    "\n",
    "for index in np.ndindex(Z.shape):\n",
    "    print(index, Z[index])"
   ]
  },
  {
   "cell_type": "markdown",
   "id": "ca2d9dbb",
   "metadata": {},
   "source": [
    "#### 56. Generate a generic 2D Gaussian-like array (★★☆)"
   ]
  },
  {
   "cell_type": "code",
   "execution_count": 60,
   "id": "77dc91fe",
   "metadata": {},
   "outputs": [
    {
     "name": "stdout",
     "output_type": "stream",
     "text": [
      "[[0.36787944 0.44822088 0.51979489 0.57375342 0.60279818 0.60279818\n",
      "  0.57375342 0.51979489 0.44822088 0.36787944]\n",
      " [0.44822088 0.54610814 0.63331324 0.69905581 0.73444367 0.73444367\n",
      "  0.69905581 0.63331324 0.54610814 0.44822088]\n",
      " [0.51979489 0.63331324 0.73444367 0.81068432 0.85172308 0.85172308\n",
      "  0.81068432 0.73444367 0.63331324 0.51979489]\n",
      " [0.57375342 0.69905581 0.81068432 0.89483932 0.9401382  0.9401382\n",
      "  0.89483932 0.81068432 0.69905581 0.57375342]\n",
      " [0.60279818 0.73444367 0.85172308 0.9401382  0.98773022 0.98773022\n",
      "  0.9401382  0.85172308 0.73444367 0.60279818]\n",
      " [0.60279818 0.73444367 0.85172308 0.9401382  0.98773022 0.98773022\n",
      "  0.9401382  0.85172308 0.73444367 0.60279818]\n",
      " [0.57375342 0.69905581 0.81068432 0.89483932 0.9401382  0.9401382\n",
      "  0.89483932 0.81068432 0.69905581 0.57375342]\n",
      " [0.51979489 0.63331324 0.73444367 0.81068432 0.85172308 0.85172308\n",
      "  0.81068432 0.73444367 0.63331324 0.51979489]\n",
      " [0.44822088 0.54610814 0.63331324 0.69905581 0.73444367 0.73444367\n",
      "  0.69905581 0.63331324 0.54610814 0.44822088]\n",
      " [0.36787944 0.44822088 0.51979489 0.57375342 0.60279818 0.60279818\n",
      "  0.57375342 0.51979489 0.44822088 0.36787944]]\n"
     ]
    }
   ],
   "source": [
    "X, Y = np.meshgrid(np.linspace(-1,1,10), np.linspace(-1,1,10))\n",
    "D = np.sqrt(X*X+Y*Y)\n",
    "sigma, mu = 1.0, 0.0\n",
    "G = np.exp(-( (D-mu)**2 / ( 2.0 * sigma**2 ) ) )\n",
    "print(G)"
   ]
  },
  {
   "cell_type": "markdown",
   "id": "3b485bb2",
   "metadata": {},
   "source": [
    "#### 57. How to randomly place p elements in a 2D array? (★★☆)"
   ]
  },
  {
   "cell_type": "code",
   "execution_count": 61,
   "id": "024b0c6e",
   "metadata": {},
   "outputs": [
    {
     "name": "stdout",
     "output_type": "stream",
     "text": [
      "[[0. 0. 0. 0. 0. 0. 0. 0. 0. 0.]\n",
      " [0. 1. 0. 0. 0. 0. 0. 0. 0. 0.]\n",
      " [0. 0. 0. 0. 0. 0. 0. 0. 0. 0.]\n",
      " [0. 0. 0. 0. 0. 0. 0. 0. 0. 0.]\n",
      " [0. 0. 0. 0. 0. 0. 0. 0. 0. 0.]\n",
      " [0. 0. 0. 0. 0. 0. 0. 0. 0. 0.]\n",
      " [0. 0. 0. 0. 1. 0. 0. 0. 0. 0.]\n",
      " [0. 0. 0. 0. 1. 0. 0. 0. 0. 0.]\n",
      " [0. 0. 0. 0. 0. 0. 0. 0. 0. 0.]\n",
      " [0. 0. 0. 0. 0. 0. 0. 0. 0. 0.]]\n"
     ]
    }
   ],
   "source": [
    "n = 10\n",
    "p = 3\n",
    "Z = np.zeros((n,n))\n",
    "np.put(Z, np.random.choice(range(n*n), p, replace=False),1)\n",
    "print(Z)"
   ]
  },
  {
   "cell_type": "markdown",
   "id": "d9916373",
   "metadata": {},
   "source": [
    "#### 58. Subtract the mean of each row of a matrix (★★☆)"
   ]
  },
  {
   "cell_type": "code",
   "execution_count": 62,
   "id": "3ff4a2aa",
   "metadata": {},
   "outputs": [
    {
     "data": {
      "text/plain": [
       "array([[-0.13622778, -0.11236433,  0.34157553,  0.20044521,  0.25962446,\n",
       "        -0.20495184, -0.16726454, -0.47703181,  0.34329921, -0.04710411],\n",
       "       [-0.03119201,  0.12911337, -0.15146192,  0.31226785,  0.09693665,\n",
       "        -0.07171991, -0.18938879, -0.32076145, -0.23855756,  0.46476377],\n",
       "       [ 0.00438794,  0.15717107,  0.44678245, -0.35491044, -0.16259077,\n",
       "        -0.35212906,  0.11371199, -0.39274616,  0.02210242,  0.51822057],\n",
       "       [ 0.09388435,  0.44731723, -0.34619333,  0.21128044, -0.32570422,\n",
       "        -0.44309859,  0.08980576, -0.13930415, -0.08566409,  0.49767661],\n",
       "       [-0.37429004,  0.15728656,  0.33949691,  0.04968739,  0.03226539,\n",
       "         0.28326622, -0.18496416, -0.22486196,  0.18895406, -0.26684036]])"
      ]
     },
     "execution_count": 62,
     "metadata": {},
     "output_type": "execute_result"
    }
   ],
   "source": [
    "X = np.random.rand(5, 10)\n",
    "\n",
    "X - X.mean(axis=1, keepdims=True)"
   ]
  },
  {
   "cell_type": "markdown",
   "id": "cb12c483",
   "metadata": {},
   "source": [
    "#### 59. How to sort an array by the nth column? (★★☆)"
   ]
  },
  {
   "cell_type": "code",
   "execution_count": 63,
   "id": "a7146011",
   "metadata": {},
   "outputs": [
    {
     "data": {
      "text/plain": [
       "array([[0.38291363, 0.96991497, 0.07012695, 0.91293673, 0.57759132,\n",
       "        0.63062867, 0.729842  , 0.67236481, 0.54923522, 0.97684037],\n",
       "       [0.57855491, 0.17071141, 0.20929757, 0.25231328, 0.77832579,\n",
       "        0.64486761, 0.57551368, 0.87311953, 0.43885544, 0.63686697],\n",
       "       [0.98196267, 0.04841273, 0.32314088, 0.99053351, 0.27874234,\n",
       "        0.72854879, 0.81090118, 0.0629606 , 0.53429461, 0.21185133],\n",
       "       [0.99549079, 0.33862048, 0.62078383, 0.81974647, 0.37595988,\n",
       "        0.99267329, 0.2578854 , 0.78272362, 0.80660191, 0.27838572],\n",
       "       [0.05413212, 0.86859063, 0.84530865, 0.9574042 , 0.95423519,\n",
       "        0.2993575 , 0.50470669, 0.66014514, 0.92502346, 0.29775489]])"
      ]
     },
     "execution_count": 63,
     "metadata": {},
     "output_type": "execute_result"
    }
   ],
   "source": [
    "X = np.random.rand(5, 10)\n",
    "X[np.argsort(X[:, 2]), :]"
   ]
  },
  {
   "cell_type": "code",
   "execution_count": null,
   "id": "e22305f1",
   "metadata": {},
   "outputs": [],
   "source": []
  },
  {
   "cell_type": "markdown",
   "id": "a515dfb9",
   "metadata": {},
   "source": [
    "#### 60. How to tell if a given 2D array has null columns? (★★☆)"
   ]
  },
  {
   "cell_type": "code",
   "execution_count": 64,
   "id": "714f5dc3",
   "metadata": {},
   "outputs": [
    {
     "name": "stdout",
     "output_type": "stream",
     "text": [
      "True\n",
      "[False False  True]\n"
     ]
    }
   ],
   "source": [
    "# null : 0 \n",
    "Z = np.random.randint(0,3,(3,10))\n",
    "print((~Z.any(axis=0)).any())\n",
    "\n",
    "# null : np.nan\n",
    "Z=np.array([\n",
    "    [0,1,np.nan],\n",
    "    [1,2,np.nan],\n",
    "    [4,5,np.nan]\n",
    "])\n",
    "print(np.isnan(Z).all(axis=0))"
   ]
  },
  {
   "cell_type": "code",
   "execution_count": 65,
   "id": "0e75b531",
   "metadata": {},
   "outputs": [
    {
     "data": {
      "text/plain": [
       "array([False, False,  True])"
      ]
     },
     "execution_count": 65,
     "metadata": {},
     "output_type": "execute_result"
    }
   ],
   "source": [
    "np.isnan(Z).all(axis=0)"
   ]
  },
  {
   "cell_type": "markdown",
   "id": "9f69cc26",
   "metadata": {},
   "source": [
    "#### 61. Find the nearest value from a given value in an array (★★☆)"
   ]
  },
  {
   "cell_type": "code",
   "execution_count": 66,
   "id": "08d1d166",
   "metadata": {},
   "outputs": [
    {
     "name": "stdout",
     "output_type": "stream",
     "text": [
      "0.4434379856085442\n"
     ]
    }
   ],
   "source": [
    "Z = np.random.uniform(0,1,10)\n",
    "z = 0.5\n",
    "m = Z.flat[np.abs(Z - z).argmin()]\n",
    "print(m)"
   ]
  },
  {
   "cell_type": "markdown",
   "id": "f9e04280",
   "metadata": {},
   "source": [
    "#### 62. Considering two arrays with shape (1,3) and (3,1), how to compute their sum using an iterator? (★★☆)"
   ]
  },
  {
   "cell_type": "code",
   "execution_count": 67,
   "id": "d52574d4",
   "metadata": {},
   "outputs": [
    {
     "name": "stdout",
     "output_type": "stream",
     "text": [
      "[[0 1 2]\n",
      " [1 2 3]\n",
      " [2 3 4]]\n"
     ]
    }
   ],
   "source": [
    "A = np.arange(3).reshape(3,1)\n",
    "B = np.arange(3).reshape(1,3)\n",
    "it = np.nditer([A,B,None])\n",
    "for x,y,z in it: z[...] = x + y\n",
    "print(it.operands[2])"
   ]
  },
  {
   "cell_type": "markdown",
   "id": "2cb343dd",
   "metadata": {},
   "source": [
    "#### 63. Create an array class that has a name attribute (★★☆)"
   ]
  },
  {
   "cell_type": "code",
   "execution_count": 68,
   "id": "84184d91",
   "metadata": {},
   "outputs": [
    {
     "name": "stdout",
     "output_type": "stream",
     "text": [
      "range_10\n"
     ]
    }
   ],
   "source": [
    "class NamedArray(np.ndarray):\n",
    "    def __new__(cls, array, name=\"no name\"):\n",
    "        obj = np.asarray(array).view(cls)\n",
    "        obj.name = name\n",
    "        return obj\n",
    "    def __array_finalize__(self, obj):\n",
    "        if obj is None: return\n",
    "        self.name = getattr(obj, 'name', \"no name\")\n",
    "\n",
    "Z = NamedArray(np.arange(10), \"range_10\")\n",
    "print (Z.name)"
   ]
  },
  {
   "cell_type": "markdown",
   "id": "f2243128",
   "metadata": {},
   "source": [
    "#### 64. Consider a given vector, how to add 1 to each element indexed by a second vector (be careful with repeated indices)? (★★★)"
   ]
  },
  {
   "cell_type": "code",
   "execution_count": 69,
   "id": "8ca01e8c",
   "metadata": {},
   "outputs": [
    {
     "name": "stdout",
     "output_type": "stream",
     "text": [
      "[3. 2. 3. 3. 6. 4. 2. 4. 1. 2.]\n"
     ]
    }
   ],
   "source": [
    "Z = np.ones(10)\n",
    "I = np.random.randint(0,len(Z),20)\n",
    "Z += np.bincount(I, minlength=len(Z))\n",
    "print(Z)"
   ]
  },
  {
   "cell_type": "markdown",
   "id": "709c1390",
   "metadata": {},
   "source": [
    "#### 65. How to accumulate elements of a vector (X) to an array (F) based on an index list (I)? (★★★)"
   ]
  },
  {
   "cell_type": "code",
   "execution_count": 70,
   "id": "eee02ec4",
   "metadata": {},
   "outputs": [
    {
     "name": "stdout",
     "output_type": "stream",
     "text": [
      "[0. 7. 0. 6. 5. 0. 0. 0. 0. 3.]\n"
     ]
    }
   ],
   "source": [
    "X = [1,2,3,4,5,6]\n",
    "I = [1,3,9,3,4,1]\n",
    "F = np.bincount(I,X)\n",
    "print(F)"
   ]
  },
  {
   "cell_type": "markdown",
   "id": "ffd1d582",
   "metadata": {},
   "source": [
    "#### 66. Considering a (w,h,3) image of (dtype=ubyte), compute the number of unique colors (★★☆)"
   ]
  },
  {
   "cell_type": "code",
   "execution_count": 71,
   "id": "e8779e7b",
   "metadata": {},
   "outputs": [
    {
     "name": "stdout",
     "output_type": "stream",
     "text": [
      "64\n"
     ]
    }
   ],
   "source": [
    "w, h = 256, 256\n",
    "I = np.random.randint(0, 4, (h, w, 3)).astype(np.ubyte)\n",
    "colors = np.unique(I.reshape(-1, 3), axis=0)\n",
    "n = len(colors)\n",
    "print(n)"
   ]
  },
  {
   "cell_type": "markdown",
   "id": "2c836176",
   "metadata": {},
   "source": [
    "#### 67. Considering a four dimensions array, how to get sum over the last two axis at once? (★★★)"
   ]
  },
  {
   "cell_type": "code",
   "execution_count": 72,
   "id": "da5c4d0c",
   "metadata": {},
   "outputs": [
    {
     "name": "stdout",
     "output_type": "stream",
     "text": [
      "[[61 55 43 60]\n",
      " [61 44 34 47]\n",
      " [38 66 54 63]]\n"
     ]
    }
   ],
   "source": [
    "A = np.random.randint(0,10,(3,4,3,4))\n",
    "mysum = A.sum(axis=(-2,-1))\n",
    "print(mysum)"
   ]
  },
  {
   "cell_type": "markdown",
   "id": "fc87d410",
   "metadata": {},
   "source": [
    "#### 68. Considering a one-dimensional vector D, how to compute means of subsets of D using a vector S of same size describing subset  indices? (★★★)"
   ]
  },
  {
   "cell_type": "code",
   "execution_count": 73,
   "id": "96773a1e",
   "metadata": {},
   "outputs": [
    {
     "name": "stdout",
     "output_type": "stream",
     "text": [
      "[0.48473726 0.63842878 0.61427898 0.40520124 0.42306208 0.48996691\n",
      " 0.31886769 0.43721092 0.50034601 0.50839384]\n"
     ]
    }
   ],
   "source": [
    "D = np.random.uniform(0,1,100)\n",
    "S = np.random.randint(0,10,100)\n",
    "D_sums = np.bincount(S, weights=D)\n",
    "D_counts = np.bincount(S)\n",
    "D_means = D_sums / D_counts\n",
    "print(D_means)"
   ]
  },
  {
   "cell_type": "markdown",
   "id": "e8fc8fef",
   "metadata": {},
   "source": [
    "#### 69. How to get the diagonal of a dot product? (★★★)"
   ]
  },
  {
   "cell_type": "code",
   "execution_count": 74,
   "id": "df38b265",
   "metadata": {},
   "outputs": [
    {
     "data": {
      "text/plain": [
       "array([1.6708081 , 0.63237769, 1.03764143, 1.2846802 , 1.85111545])"
      ]
     },
     "execution_count": 74,
     "metadata": {},
     "output_type": "execute_result"
    }
   ],
   "source": [
    "A = np.random.uniform(0,1,(5,5))\n",
    "B = np.random.uniform(0,1,(5,5))\n",
    "\n",
    "np.einsum(\"ij,ji->i\", A, B)"
   ]
  },
  {
   "cell_type": "markdown",
   "id": "c09b2685",
   "metadata": {},
   "source": [
    "#### 70. Consider the vector [1, 2, 3, 4, 5], how to build a new vector with 3 consecutive zeros interleaved between each value? (★★★)"
   ]
  },
  {
   "cell_type": "code",
   "execution_count": 75,
   "id": "f70677ef",
   "metadata": {},
   "outputs": [
    {
     "data": {
      "text/plain": [
       "array([1., 0., 0., 0., 2., 0., 0., 0., 3., 0., 0., 0., 4., 0., 0., 0., 5.])"
      ]
     },
     "execution_count": 75,
     "metadata": {},
     "output_type": "execute_result"
    }
   ],
   "source": [
    "vec = np.array([1, 2, 3, 4, 5])\n",
    "\n",
    "n = len(vec)\n",
    "ans = np.zeros((n + (n-1)*3))\n",
    "ans[::4] = vec \n",
    "\n",
    "ans "
   ]
  },
  {
   "cell_type": "markdown",
   "id": "20a2efe9",
   "metadata": {},
   "source": [
    "#### 71. Consider an array of dimension (5,5,3), how to multiply it by an array with dimensions (5,5)? (★★★)"
   ]
  },
  {
   "cell_type": "code",
   "execution_count": 76,
   "id": "4229f926",
   "metadata": {},
   "outputs": [
    {
     "data": {
      "text/plain": [
       "array([[0.6375266 , 0.77605314, 1.15824964],\n",
       "       [0.5888853 , 0.57142991, 1.28193521],\n",
       "       [1.67030963, 2.21332883, 1.47126651],\n",
       "       [0.78765758, 1.40704948, 1.85751111],\n",
       "       [1.22642131, 1.25381143, 1.25337631]])"
      ]
     },
     "execution_count": 76,
     "metadata": {},
     "output_type": "execute_result"
    }
   ],
   "source": [
    "A = np.random.random((5, 5, 3))\n",
    "B = np.random.random((5,5))\n",
    "\n",
    "np.einsum(\"ijk,ij->ijk\", A, B)\n",
    "# np.einsum(\"ijk,ij->ik\", A, B)\n",
    "\n",
    "\n",
    "# print(A * B[:,:,None])"
   ]
  },
  {
   "cell_type": "markdown",
   "id": "ed902cf5",
   "metadata": {},
   "source": [
    "#### 72. How to swap two rows of an array? (★★★)"
   ]
  },
  {
   "cell_type": "code",
   "execution_count": 77,
   "id": "754a5ca0",
   "metadata": {},
   "outputs": [
    {
     "data": {
      "text/plain": [
       "array([[ 0,  1,  2,  3],\n",
       "       [ 4,  5,  6,  7],\n",
       "       [12, 13, 14, 15],\n",
       "       [ 8,  9, 10, 11]])"
      ]
     },
     "execution_count": 77,
     "metadata": {},
     "output_type": "execute_result"
    }
   ],
   "source": [
    "A = np.arange(16).reshape(4, -1)\n",
    "\n",
    "A[[2,3]] = A[[3,2]]\n",
    "\n",
    "A"
   ]
  },
  {
   "cell_type": "markdown",
   "id": "04d4266e",
   "metadata": {},
   "source": [
    "#### 73. Consider a set of 10 triplets describing 10 triangles (with shared vertices), find the set of unique line segments composing all the  triangles (★★★)"
   ]
  },
  {
   "cell_type": "code",
   "execution_count": 117,
   "id": "86f8b3d9",
   "metadata": {},
   "outputs": [],
   "source": [
    "faces = np.random.randint(0, 100, (10, 3))\n",
    "F = np.roll(faces.repeat(2, axis=1), -1, axis=1).reshape(-1, 2)\n",
    "F = np.sort(F, axis=1)              # undirected\n",
    "unique_edges = np.unique(F, axis=0) # (K, 2) without structured dtype"
   ]
  },
  {
   "cell_type": "markdown",
   "id": "3c5f1bcb",
   "metadata": {},
   "source": [
    "#### 74. Given a sorted array C that corresponds to a bincount, how to produce an array A such that np.bincount(A) == C? (★★★)"
   ]
  },
  {
   "cell_type": "code",
   "execution_count": 79,
   "id": "48741e72",
   "metadata": {},
   "outputs": [
    {
     "name": "stdout",
     "output_type": "stream",
     "text": [
      "[0 2 1 1 2 0 1]\n",
      "[1 1 2 3 4 4 6]\n"
     ]
    }
   ],
   "source": [
    "C = np.bincount([1,1,2,3,4,4,6])\n",
    "print(C)\n",
    "A = np.repeat(np.arange(len(C)), C)\n",
    "print(A)"
   ]
  },
  {
   "cell_type": "markdown",
   "id": "3cdcf7c9",
   "metadata": {},
   "source": [
    "#### 75. How to compute averages using a sliding window over an array? (★★★)"
   ]
  },
  {
   "cell_type": "code",
   "execution_count": 80,
   "id": "95fe27ac",
   "metadata": {},
   "outputs": [
    {
     "data": {
      "text/plain": [
       "array([ 1.,  2.,  3.,  4.,  5.,  6.,  7.,  8.,  9., 10., 11., 12., 13.,\n",
       "       14., 15., 16., 17., 18.])"
      ]
     },
     "execution_count": 80,
     "metadata": {},
     "output_type": "execute_result"
    }
   ],
   "source": [
    "Z = np.arange(20)\n",
    "n = 3 # window size \n",
    "\n",
    "# 1\n",
    "a = np.cumsum(Z)\n",
    "a[n:] = a[n:] - a[:-n]\n",
    "ans = a[n - 1:] / n\n",
    "ans"
   ]
  },
  {
   "cell_type": "code",
   "execution_count": 81,
   "id": "fed42ec0",
   "metadata": {},
   "outputs": [
    {
     "data": {
      "text/plain": [
       "array([ 1.,  2.,  3.,  4.,  5.,  6.,  7.,  8.,  9., 10., 11., 12., 13.,\n",
       "       14., 15., 16., 17., 18.])"
      ]
     },
     "execution_count": 81,
     "metadata": {},
     "output_type": "execute_result"
    }
   ],
   "source": [
    "np.lib.stride_tricks.sliding_window_view(Z, n).mean(axis=1)"
   ]
  },
  {
   "cell_type": "markdown",
   "id": "864d0e79",
   "metadata": {},
   "source": [
    "#### 76. Consider a one-dimensional array Z, build a two-dimensional array whose first row is (Z[0],Z[1],Z[2]) and each subsequent row is  shifted by 1 (last row should be (Z[-3],Z[-2],Z[-1]) (★★★)"
   ]
  },
  {
   "cell_type": "code",
   "execution_count": 118,
   "id": "302eb064",
   "metadata": {},
   "outputs": [
    {
     "data": {
      "text/plain": [
       "array([[ 0,  1,  2],\n",
       "       [ 1,  2,  3],\n",
       "       [ 2,  3,  4],\n",
       "       [ 3,  4,  5],\n",
       "       [ 4,  5,  6],\n",
       "       [ 5,  6,  7],\n",
       "       [ 6,  7,  8],\n",
       "       [ 7,  8,  9],\n",
       "       [ 8,  9, 10],\n",
       "       [ 9, 10, 11],\n",
       "       [10, 11, 12],\n",
       "       [11, 12, 13],\n",
       "       [12, 13, 14]])"
      ]
     },
     "execution_count": 118,
     "metadata": {},
     "output_type": "execute_result"
    }
   ],
   "source": [
    "z = np.arange(15)\n",
    "np.lib.stride_tricks.sliding_window_view(z, 3)"
   ]
  },
  {
   "cell_type": "code",
   "execution_count": 126,
   "id": "ecbfe92d",
   "metadata": {},
   "outputs": [
    {
     "data": {
      "text/plain": [
       "array([[ 0,  1,  2],\n",
       "       [ 1,  2,  3],\n",
       "       [ 2,  3,  4],\n",
       "       [ 3,  4,  5],\n",
       "       [ 4,  5,  6],\n",
       "       [ 5,  6,  7],\n",
       "       [ 6,  7,  8],\n",
       "       [ 7,  8,  9],\n",
       "       [ 8,  9, 10],\n",
       "       [ 9, 10, 11],\n",
       "       [10, 11, 12],\n",
       "       [11, 12, 13],\n",
       "       [12, 13, 14]])"
      ]
     },
     "execution_count": 126,
     "metadata": {},
     "output_type": "execute_result"
    }
   ],
   "source": [
    "sx = z.strides[0]\n",
    "np.lib.stride_tricks.as_strided(z, shape=(13, 3), strides=(sx, sx))"
   ]
  },
  {
   "cell_type": "markdown",
   "id": "ac1bae35",
   "metadata": {},
   "source": [
    "#### 77. How to negate a boolean, or to change the sign of a float inplace? (★★★)"
   ]
  },
  {
   "cell_type": "code",
   "execution_count": 83,
   "id": "29d4dd5a",
   "metadata": {},
   "outputs": [
    {
     "data": {
      "text/plain": [
       "array([0, 1, 0, 1, 0, 1, 0, 0, 1, 1, 0, 0, 0, 0, 0, 1, 1, 0, 1, 1, 1, 1,\n",
       "       0, 0, 1, 0, 1, 1, 1, 0, 1, 1, 0, 1, 1, 0, 1, 1, 1, 0, 0, 0, 0, 0,\n",
       "       0, 0, 1, 0, 0, 1, 0, 1, 0, 0, 1, 0, 0, 1, 0, 0, 0, 0, 0, 0, 1, 1,\n",
       "       1, 1, 0, 0, 0, 0, 0, 1, 1, 1, 0, 0, 0, 1, 1, 1, 0, 1, 0, 0, 0, 1,\n",
       "       1, 0, 0, 0, 0, 0, 0, 0, 1, 0, 0, 1])"
      ]
     },
     "execution_count": 83,
     "metadata": {},
     "output_type": "execute_result"
    }
   ],
   "source": [
    "Z = np.random.randint(0,2,100)\n",
    "np.logical_not(Z, out=Z)"
   ]
  },
  {
   "cell_type": "code",
   "execution_count": 84,
   "id": "21c6f5bd",
   "metadata": {},
   "outputs": [
    {
     "data": {
      "text/plain": [
       "array([ 0.41472315,  0.79334255, -0.51965441, -0.45658013, -0.93761238,\n",
       "       -0.37153984, -0.33854587, -0.03106795, -0.61192266, -0.52942279,\n",
       "        0.40177812, -0.35388509, -0.76336259, -0.47546563,  0.6163291 ,\n",
       "       -0.90433952,  0.32942812, -0.46223809, -0.65400081, -0.65909119,\n",
       "       -0.98695499,  0.04651259, -0.5150651 ,  0.49495561, -0.16647124,\n",
       "        0.11963977,  0.41157785,  0.21997518, -0.48295014,  0.15181393,\n",
       "        0.51794516,  0.68898572,  0.09322219, -0.90796567,  0.32901329,\n",
       "       -0.66553505, -0.74265518,  0.30566002,  0.8996191 , -0.33372418,\n",
       "       -0.13727816, -0.34807323,  0.46359566,  0.66853703,  0.03166785,\n",
       "        0.6156619 , -0.41641653, -0.12940503, -0.05599953, -0.61961018,\n",
       "       -0.12306288, -0.09038812,  0.39928299, -0.86737131,  0.93274388,\n",
       "       -0.94024723,  0.58493625,  0.05527695,  0.25891384, -0.9606649 ,\n",
       "       -0.57186981, -0.46778448,  0.5012492 , -0.60713217,  0.0881049 ,\n",
       "        0.17484663, -0.05978084,  0.91066982,  0.96417215, -0.69110308,\n",
       "       -0.34304163,  0.19103949, -0.4967885 ,  0.93048328,  0.79117646,\n",
       "        0.10654433,  0.87743868,  0.26800717, -0.62279622,  0.51158804,\n",
       "       -0.01770014, -0.20736203,  0.88427164,  0.90908253,  0.41064366,\n",
       "       -0.53301161, -0.86157309, -0.42013084, -0.14534555,  0.02762514,\n",
       "       -0.04984253, -0.12842499,  0.54880263, -0.39953513, -0.61211462,\n",
       "       -0.84571991, -0.54682231,  0.74352517,  0.37816078,  0.70353716])"
      ]
     },
     "execution_count": 84,
     "metadata": {},
     "output_type": "execute_result"
    }
   ],
   "source": [
    "Z = np.random.uniform(-1.0,1.0,100)\n",
    "np.negative(Z, out=Z)"
   ]
  },
  {
   "cell_type": "markdown",
   "id": "bb0a16a8",
   "metadata": {},
   "source": [
    "#### 78. Consider 2 sets of points P0,P1 describing lines (2d) and a point p, how to compute distance from p to each line i (P0[i],P1[i])? (★★★)"
   ]
  },
  {
   "cell_type": "code",
   "execution_count": 85,
   "id": "131ca9d9",
   "metadata": {},
   "outputs": [
    {
     "data": {
      "text/plain": [
       "array([ 2.39526954,  0.9425216 ,  1.44330618,  3.90182192,  4.80860105,\n",
       "        9.4333098 ,  1.93326157, 11.48001013,  0.17232784, 10.76969985])"
      ]
     },
     "execution_count": 85,
     "metadata": {},
     "output_type": "execute_result"
    }
   ],
   "source": [
    "P0 = np.random.uniform(-10,10,(10,2))\n",
    "P1 = np.random.uniform(-10,10,(10,2))\n",
    "p  = np.random.uniform(-10,10,( 1,2))\n",
    "\n",
    "\n",
    "diff = P1 - P0\n",
    "diff2 = P0 - p \n",
    "\n",
    "np.abs(diff[:,0]*diff2[:,1] - diff[:,1]*diff2[:,0]) / np.linalg.norm(diff, axis=1)"
   ]
  },
  {
   "cell_type": "code",
   "execution_count": 86,
   "id": "631bcd44",
   "metadata": {},
   "outputs": [
    {
     "name": "stdout",
     "output_type": "stream",
     "text": [
      "[ 2.39526954  0.9425216   1.44330618  3.90182192  4.80860105  9.4333098\n",
      "  1.93326157 11.48001013  0.17232784 10.76969985]\n"
     ]
    }
   ],
   "source": [
    "def distance_faster(P0,P1,p):\n",
    "    #Author: Hemanth Pasupuleti\n",
    "    #Reference: https://mathworld.wolfram.com/Point-LineDistance2-Dimensional.html\n",
    "\n",
    "    v = P1- P0 \n",
    "    v[:,[0,1]] = v[:,[1,0]]\n",
    "    v[:,1]*=-1 \n",
    "    norm = np.linalg.norm(v,axis=1)   \n",
    "    r = P0 - p\n",
    "    d = np.abs(np.einsum(\"ij,ij->i\",r,v)) / norm \n",
    "\n",
    "    return d\n",
    "\n",
    "print(distance_faster(P0, P1, p))"
   ]
  },
  {
   "cell_type": "markdown",
   "id": "92d9df36",
   "metadata": {},
   "source": [
    "#### 79. Consider 2 sets of points P0,P1 describing lines (2d) and a set of points P, how to compute distance from each point j (P[j]) to each line i (P0[i],P1[i])? (★★★)"
   ]
  },
  {
   "cell_type": "code",
   "execution_count": 87,
   "id": "dae2d3a6",
   "metadata": {},
   "outputs": [],
   "source": [
    "P0 = np.random.uniform(-10,10,(10,2))\n",
    "P1 = np.random.uniform(-10,10,(10,2))\n",
    "p  = np.random.uniform(-10,10,( 15,2))\n",
    "\n",
    "diff = P1 - P0 \n",
    "diff2 = P0[:, None, :] - p[None, :, :]\n",
    "diff2.shape\n",
    "\n",
    "ans = np.abs(diff[:,0][:, None] * diff2[:, :, 1] - diff[:, 1][:, None] * diff2[:, :, 0]) / np.linalg.norm(diff, axis=1, keepdims=True)"
   ]
  },
  {
   "cell_type": "code",
   "execution_count": 88,
   "id": "713937fe",
   "metadata": {},
   "outputs": [],
   "source": [
    "def distance_points_to_lines(p: np.ndarray, p_1: np.ndarray, p_2: np.ndarray) -> np.ndarray:\n",
    "    x_0, y_0 = p.T  # Shape -> (n points, )\n",
    "    x_1, y_1 = p_1.T  # Shape -> (n lines, )\n",
    "    x_2, y_2 = p_2.T  # Shape -> (n lines, )\n",
    "\n",
    "    # Displacement vector coordinates from p_1 -> p_2\n",
    "    dx = x_2 - x_1  # Shape -> (n lines, )\n",
    "    dy = y_2 - y_1  # Shape -> (n lines, )\n",
    "\n",
    "    # The 'cross product' term\n",
    "    cross_term = x_2 * y_1 - y_2 * x_1  # Shape -> (n lines, )\n",
    "\n",
    "    # Broadcast x_0, y_0 (n points, 1) and dx, dy, cross_term (1, n lines) -> (n points, n lines)\n",
    "    numerator = np.abs(\n",
    "        dy[np.newaxis, :] * x_0[:, np.newaxis]\n",
    "        - dx[np.newaxis, :] * y_0[:, np.newaxis]\n",
    "        + cross_term[np.newaxis, :]\n",
    "    )\n",
    "    denominator = np.sqrt(dx**2 + dy**2)  # Shape -> (n lines, )\n",
    "\n",
    "    # Shape (n points, n lines) / (1, n_lines) -> (n points, n lines)\n",
    "    return numerator / denominator[np.newaxis, :]"
   ]
  },
  {
   "cell_type": "code",
   "execution_count": 89,
   "id": "87815c8a",
   "metadata": {},
   "outputs": [
    {
     "data": {
      "text/plain": [
       "True"
      ]
     },
     "execution_count": 89,
     "metadata": {},
     "output_type": "execute_result"
    }
   ],
   "source": [
    "np.allclose(ans.T, distance_points_to_lines(p, P0, P1))"
   ]
  },
  {
   "cell_type": "markdown",
   "id": "d48a85aa",
   "metadata": {},
   "source": [
    "#### 80. Consider an arbitrary array, write a function that extracts a subpart with a fixed shape and centered on a given element (pad with a `fill` value when necessary) (★★★)"
   ]
  },
  {
   "cell_type": "code",
   "execution_count": null,
   "id": "567032a6",
   "metadata": {},
   "outputs": [],
   "source": [
    "\n"
   ]
  },
  {
   "cell_type": "markdown",
   "id": "e944f21e",
   "metadata": {},
   "source": [
    "#### 81. Consider an array Z = [1,2,3,4,5,6,7,8,9,10,11,12,13,14], how to generate an array R = [[1,2,3,4], [2,3,4,5], [3,4,5,6], ..., [11,12,13,14]]? (★★★)"
   ]
  },
  {
   "cell_type": "code",
   "execution_count": 90,
   "id": "1c5b4e1d",
   "metadata": {},
   "outputs": [
    {
     "data": {
      "text/plain": [
       "array([[ 1,  2,  3,  4],\n",
       "       [ 2,  3,  4,  5],\n",
       "       [ 3,  4,  5,  6],\n",
       "       [ 4,  5,  6,  7],\n",
       "       [ 5,  6,  7,  8],\n",
       "       [ 6,  7,  8,  9],\n",
       "       [ 7,  8,  9, 10],\n",
       "       [ 8,  9, 10, 11],\n",
       "       [ 9, 10, 11, 12],\n",
       "       [10, 11, 12, 13],\n",
       "       [11, 12, 13, 14]])"
      ]
     },
     "execution_count": 90,
     "metadata": {},
     "output_type": "execute_result"
    }
   ],
   "source": [
    "Z = [1,2,3,4,5,6,7,8,9,10,11,12,13,14]\n",
    "\n",
    "np.lib.stride_tricks.sliding_window_view(Z, 4)"
   ]
  },
  {
   "cell_type": "markdown",
   "id": "30c5d4ec",
   "metadata": {},
   "source": [
    "#### 82. Compute a matrix rank (★★★)"
   ]
  },
  {
   "cell_type": "code",
   "execution_count": 91,
   "id": "520b1fe5",
   "metadata": {},
   "outputs": [
    {
     "data": {
      "text/plain": [
       "1000"
      ]
     },
     "execution_count": 91,
     "metadata": {},
     "output_type": "execute_result"
    }
   ],
   "source": [
    "Z = np.random.random((1000,1000))\n",
    "np.linalg.matrix_rank(Z)"
   ]
  },
  {
   "cell_type": "markdown",
   "id": "004e290c",
   "metadata": {},
   "source": [
    "#### 83. How to find the most frequent value in an array?"
   ]
  },
  {
   "cell_type": "code",
   "execution_count": 92,
   "id": "a4e2a0be",
   "metadata": {},
   "outputs": [
    {
     "name": "stdout",
     "output_type": "stream",
     "text": [
      "2\n"
     ]
    }
   ],
   "source": [
    "Z = np.random.randint(0,10,50)\n",
    "print(np.bincount(Z).argmax())"
   ]
  },
  {
   "cell_type": "markdown",
   "id": "d32c3daa",
   "metadata": {},
   "source": [
    "#### 84. Extract all the contiguous 3x3 blocks from a random 10x10 matrix (★★★)"
   ]
  },
  {
   "cell_type": "code",
   "execution_count": 93,
   "id": "7920e148",
   "metadata": {},
   "outputs": [
    {
     "data": {
      "text/plain": [
       "array([[[[ 0,  1,  2],\n",
       "         [10, 11, 12],\n",
       "         [20, 21, 22]],\n",
       "\n",
       "        [[ 1,  2,  3],\n",
       "         [11, 12, 13],\n",
       "         [21, 22, 23]],\n",
       "\n",
       "        [[ 2,  3,  4],\n",
       "         [12, 13, 14],\n",
       "         [22, 23, 24]],\n",
       "\n",
       "        [[ 3,  4,  5],\n",
       "         [13, 14, 15],\n",
       "         [23, 24, 25]],\n",
       "\n",
       "        [[ 4,  5,  6],\n",
       "         [14, 15, 16],\n",
       "         [24, 25, 26]],\n",
       "\n",
       "        [[ 5,  6,  7],\n",
       "         [15, 16, 17],\n",
       "         [25, 26, 27]],\n",
       "\n",
       "        [[ 6,  7,  8],\n",
       "         [16, 17, 18],\n",
       "         [26, 27, 28]],\n",
       "\n",
       "        [[ 7,  8,  9],\n",
       "         [17, 18, 19],\n",
       "         [27, 28, 29]]],\n",
       "\n",
       "\n",
       "       [[[10, 11, 12],\n",
       "         [20, 21, 22],\n",
       "         [30, 31, 32]],\n",
       "\n",
       "        [[11, 12, 13],\n",
       "         [21, 22, 23],\n",
       "         [31, 32, 33]],\n",
       "\n",
       "        [[12, 13, 14],\n",
       "         [22, 23, 24],\n",
       "         [32, 33, 34]],\n",
       "\n",
       "        [[13, 14, 15],\n",
       "         [23, 24, 25],\n",
       "         [33, 34, 35]],\n",
       "\n",
       "        [[14, 15, 16],\n",
       "         [24, 25, 26],\n",
       "         [34, 35, 36]],\n",
       "\n",
       "        [[15, 16, 17],\n",
       "         [25, 26, 27],\n",
       "         [35, 36, 37]],\n",
       "\n",
       "        [[16, 17, 18],\n",
       "         [26, 27, 28],\n",
       "         [36, 37, 38]],\n",
       "\n",
       "        [[17, 18, 19],\n",
       "         [27, 28, 29],\n",
       "         [37, 38, 39]]],\n",
       "\n",
       "\n",
       "       [[[20, 21, 22],\n",
       "         [30, 31, 32],\n",
       "         [40, 41, 42]],\n",
       "\n",
       "        [[21, 22, 23],\n",
       "         [31, 32, 33],\n",
       "         [41, 42, 43]],\n",
       "\n",
       "        [[22, 23, 24],\n",
       "         [32, 33, 34],\n",
       "         [42, 43, 44]],\n",
       "\n",
       "        [[23, 24, 25],\n",
       "         [33, 34, 35],\n",
       "         [43, 44, 45]],\n",
       "\n",
       "        [[24, 25, 26],\n",
       "         [34, 35, 36],\n",
       "         [44, 45, 46]],\n",
       "\n",
       "        [[25, 26, 27],\n",
       "         [35, 36, 37],\n",
       "         [45, 46, 47]],\n",
       "\n",
       "        [[26, 27, 28],\n",
       "         [36, 37, 38],\n",
       "         [46, 47, 48]],\n",
       "\n",
       "        [[27, 28, 29],\n",
       "         [37, 38, 39],\n",
       "         [47, 48, 49]]],\n",
       "\n",
       "\n",
       "       [[[30, 31, 32],\n",
       "         [40, 41, 42],\n",
       "         [50, 51, 52]],\n",
       "\n",
       "        [[31, 32, 33],\n",
       "         [41, 42, 43],\n",
       "         [51, 52, 53]],\n",
       "\n",
       "        [[32, 33, 34],\n",
       "         [42, 43, 44],\n",
       "         [52, 53, 54]],\n",
       "\n",
       "        [[33, 34, 35],\n",
       "         [43, 44, 45],\n",
       "         [53, 54, 55]],\n",
       "\n",
       "        [[34, 35, 36],\n",
       "         [44, 45, 46],\n",
       "         [54, 55, 56]],\n",
       "\n",
       "        [[35, 36, 37],\n",
       "         [45, 46, 47],\n",
       "         [55, 56, 57]],\n",
       "\n",
       "        [[36, 37, 38],\n",
       "         [46, 47, 48],\n",
       "         [56, 57, 58]],\n",
       "\n",
       "        [[37, 38, 39],\n",
       "         [47, 48, 49],\n",
       "         [57, 58, 59]]],\n",
       "\n",
       "\n",
       "       [[[40, 41, 42],\n",
       "         [50, 51, 52],\n",
       "         [60, 61, 62]],\n",
       "\n",
       "        [[41, 42, 43],\n",
       "         [51, 52, 53],\n",
       "         [61, 62, 63]],\n",
       "\n",
       "        [[42, 43, 44],\n",
       "         [52, 53, 54],\n",
       "         [62, 63, 64]],\n",
       "\n",
       "        [[43, 44, 45],\n",
       "         [53, 54, 55],\n",
       "         [63, 64, 65]],\n",
       "\n",
       "        [[44, 45, 46],\n",
       "         [54, 55, 56],\n",
       "         [64, 65, 66]],\n",
       "\n",
       "        [[45, 46, 47],\n",
       "         [55, 56, 57],\n",
       "         [65, 66, 67]],\n",
       "\n",
       "        [[46, 47, 48],\n",
       "         [56, 57, 58],\n",
       "         [66, 67, 68]],\n",
       "\n",
       "        [[47, 48, 49],\n",
       "         [57, 58, 59],\n",
       "         [67, 68, 69]]],\n",
       "\n",
       "\n",
       "       [[[50, 51, 52],\n",
       "         [60, 61, 62],\n",
       "         [70, 71, 72]],\n",
       "\n",
       "        [[51, 52, 53],\n",
       "         [61, 62, 63],\n",
       "         [71, 72, 73]],\n",
       "\n",
       "        [[52, 53, 54],\n",
       "         [62, 63, 64],\n",
       "         [72, 73, 74]],\n",
       "\n",
       "        [[53, 54, 55],\n",
       "         [63, 64, 65],\n",
       "         [73, 74, 75]],\n",
       "\n",
       "        [[54, 55, 56],\n",
       "         [64, 65, 66],\n",
       "         [74, 75, 76]],\n",
       "\n",
       "        [[55, 56, 57],\n",
       "         [65, 66, 67],\n",
       "         [75, 76, 77]],\n",
       "\n",
       "        [[56, 57, 58],\n",
       "         [66, 67, 68],\n",
       "         [76, 77, 78]],\n",
       "\n",
       "        [[57, 58, 59],\n",
       "         [67, 68, 69],\n",
       "         [77, 78, 79]]],\n",
       "\n",
       "\n",
       "       [[[60, 61, 62],\n",
       "         [70, 71, 72],\n",
       "         [80, 81, 82]],\n",
       "\n",
       "        [[61, 62, 63],\n",
       "         [71, 72, 73],\n",
       "         [81, 82, 83]],\n",
       "\n",
       "        [[62, 63, 64],\n",
       "         [72, 73, 74],\n",
       "         [82, 83, 84]],\n",
       "\n",
       "        [[63, 64, 65],\n",
       "         [73, 74, 75],\n",
       "         [83, 84, 85]],\n",
       "\n",
       "        [[64, 65, 66],\n",
       "         [74, 75, 76],\n",
       "         [84, 85, 86]],\n",
       "\n",
       "        [[65, 66, 67],\n",
       "         [75, 76, 77],\n",
       "         [85, 86, 87]],\n",
       "\n",
       "        [[66, 67, 68],\n",
       "         [76, 77, 78],\n",
       "         [86, 87, 88]],\n",
       "\n",
       "        [[67, 68, 69],\n",
       "         [77, 78, 79],\n",
       "         [87, 88, 89]]],\n",
       "\n",
       "\n",
       "       [[[70, 71, 72],\n",
       "         [80, 81, 82],\n",
       "         [90, 91, 92]],\n",
       "\n",
       "        [[71, 72, 73],\n",
       "         [81, 82, 83],\n",
       "         [91, 92, 93]],\n",
       "\n",
       "        [[72, 73, 74],\n",
       "         [82, 83, 84],\n",
       "         [92, 93, 94]],\n",
       "\n",
       "        [[73, 74, 75],\n",
       "         [83, 84, 85],\n",
       "         [93, 94, 95]],\n",
       "\n",
       "        [[74, 75, 76],\n",
       "         [84, 85, 86],\n",
       "         [94, 95, 96]],\n",
       "\n",
       "        [[75, 76, 77],\n",
       "         [85, 86, 87],\n",
       "         [95, 96, 97]],\n",
       "\n",
       "        [[76, 77, 78],\n",
       "         [86, 87, 88],\n",
       "         [96, 97, 98]],\n",
       "\n",
       "        [[77, 78, 79],\n",
       "         [87, 88, 89],\n",
       "         [97, 98, 99]]]])"
      ]
     },
     "execution_count": 93,
     "metadata": {},
     "output_type": "execute_result"
    }
   ],
   "source": [
    "Z = np.arange(10*10).reshape(10,-1)\n",
    "\n",
    "np.lib.stride_tricks.sliding_window_view(Z, (3,3))"
   ]
  },
  {
   "cell_type": "markdown",
   "id": "67797061",
   "metadata": {},
   "source": [
    "#### 85. Create a 2D array subclass such that Z[i,j] == Z[j,i] (★★★)"
   ]
  },
  {
   "cell_type": "code",
   "execution_count": null,
   "id": "006131a0",
   "metadata": {},
   "outputs": [],
   "source": []
  },
  {
   "cell_type": "markdown",
   "id": "78840641",
   "metadata": {},
   "source": [
    "#### 86. Consider a set of p matrices with shape (n,n) and a set of p vectors with shape (n,1). How to compute the sum of of the p matrix products at once? (result has shape (n,1)) (★★★)"
   ]
  },
  {
   "cell_type": "code",
   "execution_count": 94,
   "id": "c737dcca",
   "metadata": {},
   "outputs": [
    {
     "name": "stdout",
     "output_type": "stream",
     "text": [
      "[[104.91684914]\n",
      " [107.6330365 ]\n",
      " [104.06504145]\n",
      " [ 98.99054211]\n",
      " [ 98.75330449]\n",
      " [102.56148929]]\n"
     ]
    }
   ],
   "source": [
    "p = 68\n",
    "n = 6\n",
    "\n",
    "M = np.random.random((p,n,n))\n",
    "V = np.random.random((p,n,1))\n",
    "\n",
    "S = np.einsum('pij,pjk->ik', M, V)\n",
    "print(S)"
   ]
  },
  {
   "cell_type": "code",
   "execution_count": 95,
   "id": "047a11f0",
   "metadata": {},
   "outputs": [
    {
     "name": "stdout",
     "output_type": "stream",
     "text": [
      "[[104.91684914]\n",
      " [107.6330365 ]\n",
      " [104.06504145]\n",
      " [ 98.99054211]\n",
      " [ 98.75330449]\n",
      " [102.56148929]]\n"
     ]
    }
   ],
   "source": [
    "S = np.tensordot(M, V, axes=[[0, 2], [0, 1]])\n",
    "print(S)"
   ]
  },
  {
   "cell_type": "markdown",
   "id": "602a6c3a",
   "metadata": {},
   "source": [
    "#### 87. Consider a 16x16 array, how to get the block-sum (block size is 4x4)? (★★★)"
   ]
  },
  {
   "cell_type": "code",
   "execution_count": 96,
   "id": "064b2e78",
   "metadata": {},
   "outputs": [
    {
     "data": {
      "text/plain": [
       "array([[16., 16., 16., 16.],\n",
       "       [16., 16., 16., 16.],\n",
       "       [16., 16., 16., 16.],\n",
       "       [16., 16., 16., 16.]])"
      ]
     },
     "execution_count": 96,
     "metadata": {},
     "output_type": "execute_result"
    }
   ],
   "source": [
    "Z = np.ones((16,16))\n",
    "\n",
    "s0, s1 = Z.strides  # byte strides along each axis\n",
    "Z_blocks = np.lib.stride_tricks.as_strided(\n",
    "    Z,\n",
    "    shape=(4, 4, 4, 4),          # (tiles_y, tiles_x, block_y, block_x)\n",
    "    strides=(4*s0, 4*s1, s0, s1) # move 4 rows or cols between tiles\n",
    ")\n",
    "\n",
    "Z_blocks.sum((-2,-1))"
   ]
  },
  {
   "cell_type": "markdown",
   "id": "65a8d988",
   "metadata": {},
   "source": [
    "#### 88. How to implement the Game of Life using numpy arrays? (★★★)\n"
   ]
  },
  {
   "cell_type": "code",
   "execution_count": null,
   "id": "e3807b84",
   "metadata": {},
   "outputs": [],
   "source": []
  },
  {
   "cell_type": "markdown",
   "id": "d7c43bcf",
   "metadata": {},
   "source": [
    "#### 89. How to get the n largest values of an array (★★★)"
   ]
  },
  {
   "cell_type": "code",
   "execution_count": 97,
   "id": "b60e8852",
   "metadata": {},
   "outputs": [
    {
     "name": "stdout",
     "output_type": "stream",
     "text": [
      "[9995 9996 9997 9998 9999]\n"
     ]
    }
   ],
   "source": [
    "Z = np.arange(10000)\n",
    "np.random.shuffle(Z)\n",
    "n = 5\n",
    "\n",
    "print (Z[np.argsort(Z)[-n:]])"
   ]
  },
  {
   "cell_type": "markdown",
   "id": "9f973f70",
   "metadata": {},
   "source": [
    "#### 90. Given an arbitrary number of vectors, build the cartesian product (every combination of every item) (★★★)"
   ]
  },
  {
   "cell_type": "code",
   "execution_count": 98,
   "id": "66816195",
   "metadata": {},
   "outputs": [
    {
     "data": {
      "text/plain": [
       "array([[1, 4, 6],\n",
       "       [1, 4, 7],\n",
       "       [1, 5, 6],\n",
       "       [1, 5, 7],\n",
       "       [2, 4, 6],\n",
       "       [2, 4, 7],\n",
       "       [2, 5, 6],\n",
       "       [2, 5, 7],\n",
       "       [3, 4, 6],\n",
       "       [3, 4, 7],\n",
       "       [3, 5, 6],\n",
       "       [3, 5, 7]])"
      ]
     },
     "execution_count": 98,
     "metadata": {},
     "output_type": "execute_result"
    }
   ],
   "source": [
    "arrays = ([1, 2, 3], [4, 5], [6, 7])\n",
    "arrays = [np.asarray(a) for a in arrays]\n",
    "shape = (len(x) for x in arrays)\n",
    "ix = np.indices(shape, dtype=int)\n",
    "ix = ix.reshape(len(arrays), -1).T\n",
    "for n, arr in enumerate(arrays):\n",
    "    ix[:, n] = arrays[n][ix[:, n]]\n",
    "\n",
    "ix"
   ]
  },
  {
   "cell_type": "markdown",
   "id": "8f274698",
   "metadata": {},
   "source": [
    "#### 91. How to create a record array from a regular array? (★★★)"
   ]
  },
  {
   "cell_type": "code",
   "execution_count": null,
   "id": "e9f859aa",
   "metadata": {},
   "outputs": [],
   "source": []
  },
  {
   "cell_type": "markdown",
   "id": "e364c991",
   "metadata": {},
   "source": [
    "#### 92. Consider a large vector Z, compute Z to the power of 3 using 3 different methods (★★★)"
   ]
  },
  {
   "cell_type": "code",
   "execution_count": 99,
   "id": "849c2c9e",
   "metadata": {},
   "outputs": [
    {
     "name": "stdout",
     "output_type": "stream",
     "text": [
      "340 ms ± 8.59 ms per loop (mean ± std. dev. of 7 runs, 1 loop each)\n",
      "54.9 ms ± 499 μs per loop (mean ± std. dev. of 7 runs, 10 loops each)\n",
      "61.3 ms ± 4.57 ms per loop (mean ± std. dev. of 7 runs, 10 loops each)\n"
     ]
    }
   ],
   "source": [
    "x = np.random.rand(int(5e7))\n",
    "\n",
    "%timeit np.power(x,3)\n",
    "%timeit x*x*x\n",
    "%timeit np.einsum('i,i,i->i',x,x,x)"
   ]
  },
  {
   "cell_type": "markdown",
   "id": "7e34fe2a",
   "metadata": {},
   "source": [
    "#### 93. Consider two arrays A and B of shape (8,3) and (2,2). How to find rows of A that contain elements of each row of B regardless of the order of the elements in B? (★★★)"
   ]
  },
  {
   "cell_type": "code",
   "execution_count": 127,
   "id": "d82ec99c",
   "metadata": {},
   "outputs": [
    {
     "data": {
      "text/plain": [
       "array([[False, False, False],\n",
       "       [False, False, False],\n",
       "       [ True, False, False],\n",
       "       [False,  True, False],\n",
       "       [False, False, False],\n",
       "       [False, False, False],\n",
       "       [False, False, False],\n",
       "       [False, False, False],\n",
       "       [False, False, False],\n",
       "       [False, False, False]])"
      ]
     },
     "execution_count": 127,
     "metadata": {},
     "output_type": "execute_result"
    }
   ],
   "source": [
    "a = np.arange(10)\n",
    "\n",
    "b = np.array([2,3, 15])\n",
    "\n",
    "\n",
    "a[:, None] == b\n",
    "\n",
    "\n",
    "# # A: (N, D), B: (M, K)\n",
    "# eq = (A[:, None, :, None] == B[None, :, None, :])  # shape (N, M, D, K)\n",
    "# mask = eq.any(axis=2).all(axis=2)                  # (N, M)\n",
    "# # mask[n, m] == True if A[n] contains all of B[m]"
   ]
  },
  {
   "cell_type": "code",
   "execution_count": 101,
   "id": "e158ff57",
   "metadata": {},
   "outputs": [],
   "source": [
    "A = np.random.randint(0,5,(8,3))\n",
    "B = np.random.randint(0,5,(2,2))\n",
    "\n",
    "C = (A[..., np.newaxis, np.newaxis] == B)\n",
    "# rows = np.where(C.any((3,1)).all(1))[0]\n",
    "# print(rows)"
   ]
  },
  {
   "cell_type": "code",
   "execution_count": 102,
   "id": "56161e05",
   "metadata": {},
   "outputs": [
    {
     "data": {
      "text/plain": [
       "(8, 3, 2, 2)"
      ]
     },
     "execution_count": 102,
     "metadata": {},
     "output_type": "execute_result"
    }
   ],
   "source": [
    "C.shape"
   ]
  },
  {
   "cell_type": "code",
   "execution_count": 103,
   "id": "4920d785",
   "metadata": {},
   "outputs": [
    {
     "data": {
      "text/plain": [
       "array([[False, False],\n",
       "       [ True, False],\n",
       "       [False, False],\n",
       "       [ True, False],\n",
       "       [ True,  True],\n",
       "       [ True,  True],\n",
       "       [False, False],\n",
       "       [ True, False]])"
      ]
     },
     "execution_count": 103,
     "metadata": {},
     "output_type": "execute_result"
    }
   ],
   "source": [
    "C.any((3,1))"
   ]
  },
  {
   "cell_type": "markdown",
   "id": "ffebdd3c",
   "metadata": {},
   "source": [
    "#### 94. Considering a 10x3 matrix, extract rows with unequal values (e.g. [2,2,3]) (★★★)"
   ]
  },
  {
   "cell_type": "code",
   "execution_count": 104,
   "id": "77e1a18e",
   "metadata": {},
   "outputs": [
    {
     "name": "stdout",
     "output_type": "stream",
     "text": [
      "[[3 1 0]\n",
      " [4 2 3]\n",
      " [2 3 4]\n",
      " [4 0 1]\n",
      " [3 2 3]\n",
      " [1 3 1]]\n",
      "---\n",
      "[[4 4 4]]\n"
     ]
    }
   ],
   "source": [
    "Z = np.random.randint(0,5,(10,3))\n",
    "\n",
    "\n",
    "print(Z[np.all(Z[:, 1:] != Z[:, :-1], axis=1), :])\n",
    "print(\"---\")\n",
    "print(Z[np.all(Z[:, 1:] == Z[:, :-1], axis=1), :])"
   ]
  },
  {
   "cell_type": "markdown",
   "id": "5ba38635",
   "metadata": {},
   "source": [
    "#### 95. Convert a vector of ints into a matrix binary representation (★★★)"
   ]
  },
  {
   "cell_type": "code",
   "execution_count": null,
   "id": "a804ff2b",
   "metadata": {},
   "outputs": [],
   "source": []
  },
  {
   "cell_type": "markdown",
   "id": "2a1781cb",
   "metadata": {},
   "source": [
    "#### 96. Given a two dimensional array, how to extract unique rows? (★★★)"
   ]
  },
  {
   "cell_type": "code",
   "execution_count": 105,
   "id": "6c8cb7e2",
   "metadata": {},
   "outputs": [
    {
     "data": {
      "text/plain": [
       "array([[0, 1, 1],\n",
       "       [1, 0, 0],\n",
       "       [1, 1, 0],\n",
       "       [1, 1, 1]])"
      ]
     },
     "execution_count": 105,
     "metadata": {},
     "output_type": "execute_result"
    }
   ],
   "source": [
    "Z = np.random.randint(0,2,(6,3))\n",
    "np.unique(Z, axis=0)"
   ]
  },
  {
   "cell_type": "markdown",
   "id": "b95d35c0",
   "metadata": {},
   "source": [
    "#### 97. Considering 2 vectors A & B, write the einsum equivalent of inner, outer, sum, and mul function (★★★)\n",
    "\n",
    "http://ajcr.net/Basic-guide-to-einsum/"
   ]
  },
  {
   "cell_type": "code",
   "execution_count": 106,
   "id": "0373465f",
   "metadata": {},
   "outputs": [
    {
     "data": {
      "text/plain": [
       "array([[0.03378109, 0.14139826, 0.33121578, 0.27937299, 0.30187369,\n",
       "        0.39369713, 0.43176602, 0.56442651, 0.41780624, 0.11723026],\n",
       "       [0.005005  , 0.02094952, 0.04907282, 0.04139181, 0.0447255 ,\n",
       "        0.05833004, 0.06397031, 0.08362524, 0.06190203, 0.0173688 ],\n",
       "       [0.0370013 , 0.15487715, 0.36278915, 0.30600441, 0.33065001,\n",
       "        0.43122659, 0.47292441, 0.61823087, 0.45763391, 0.12840531],\n",
       "       [0.02355311, 0.09858679, 0.23093283, 0.1947866 , 0.21047471,\n",
       "        0.27449657, 0.30103925, 0.39353383, 0.29130611, 0.08173619],\n",
       "       [0.04145929, 0.17353706, 0.40649871, 0.34287243, 0.37048737,\n",
       "        0.48318162, 0.52990329, 0.69271655, 0.51277056, 0.14387584],\n",
       "       [0.02749994, 0.11510713, 0.26963059, 0.22742728, 0.24574427,\n",
       "        0.32049436, 0.35148484, 0.45947888, 0.3401207 , 0.09543284],\n",
       "       [0.02585104, 0.10820525, 0.25346341, 0.21379063, 0.23100933,\n",
       "        0.30127737, 0.33040965, 0.43192831, 0.31972691, 0.08971065],\n",
       "       [0.02927874, 0.12255265, 0.28707122, 0.24213806, 0.26163985,\n",
       "        0.34122504, 0.37422009, 0.48919954, 0.36212088, 0.10160577],\n",
       "       [0.00711735, 0.02979123, 0.06978393, 0.05886116, 0.06360184,\n",
       "        0.08294814, 0.09096888, 0.11891915, 0.08802769, 0.02469927],\n",
       "       [0.03004556, 0.12576235, 0.29458972, 0.24847975, 0.2684923 ,\n",
       "        0.35016185, 0.38402106, 0.50201187, 0.37160496, 0.10426686]])"
      ]
     },
     "execution_count": 106,
     "metadata": {},
     "output_type": "execute_result"
    }
   ],
   "source": [
    "A = np.random.uniform(0,1,10)\n",
    "B = np.random.uniform(0,1,10)\n",
    "\n",
    "np.einsum('i->', A)       # np.sum(A)\n",
    "np.einsum('i,i->i', A, B) # A * B\n",
    "np.einsum('i,i', A, B)    # np.inner(A, B)\n",
    "np.einsum('i,j->ij', A, B)    # np.outer(A, B)"
   ]
  },
  {
   "cell_type": "code",
   "execution_count": null,
   "id": "467e70e6",
   "metadata": {},
   "outputs": [],
   "source": []
  }
 ],
 "metadata": {
  "kernelspec": {
   "display_name": "research",
   "language": "python",
   "name": "python3"
  },
  "language_info": {
   "codemirror_mode": {
    "name": "ipython",
    "version": 3
   },
   "file_extension": ".py",
   "mimetype": "text/x-python",
   "name": "python",
   "nbconvert_exporter": "python",
   "pygments_lexer": "ipython3",
   "version": "3.11.8"
  }
 },
 "nbformat": 4,
 "nbformat_minor": 5
}
